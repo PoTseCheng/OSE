{
 "metadata": {
  "language_info": {
   "codemirror_mode": {
    "name": "ipython",
    "version": 3
   },
   "file_extension": ".py",
   "mimetype": "text/x-python",
   "name": "python",
   "nbconvert_exporter": "python",
   "pygments_lexer": "ipython3",
   "version": "3.7.7-final"
  },
  "orig_nbformat": 2,
  "kernelspec": {
   "name": "python3",
   "display_name": "Python 3"
  }
 },
 "nbformat": 4,
 "nbformat_minor": 2,
 "cells": [
  {
   "cell_type": "code",
   "execution_count": 11,
   "metadata": {},
   "outputs": [],
   "source": [
    "import numpy as np\n",
    "import math\n",
    "import scipy.linalg"
   ]
  },
  {
   "cell_type": "code",
   "execution_count": 3,
   "metadata": {},
   "outputs": [],
   "source": [
    "Qn = 10 #The default option\n",
    "eps = np.array([3.436159118837738,2.532731674232790,1.756683649299882,1.036610829789514,0.3429013272237046,-0.3429013272237046,-1.036610829789514,-1.756683649299882,-2.532731674232790,-3.436159118837738])\n",
    "weight = np.array([7.640432855232621e-06,0.001343645746781233,0.03387439445548106,0.2401386110823147,0.6108626337353258,0.6108626337353258,0.2401386110823147,0.03387439445548106,0.001343645746781233,7.640432855232621e-06])\n",
    "\n",
    "N=2\n",
    "\n",
    "n_nodes = Qn**N\n",
    "z1 = np.ones([n_nodes,N]).astype(float)\n",
    "w1i = np.ones([n_nodes,N]).astype(float)\n",
    "w1 = np.ones([n_nodes,1]).astype(float)\n",
    "\n",
    "for i in range(N):\n",
    "    z1[:,i]=np.tile(np.repeat(eps,10**(i)), 10**(N-i-1))\n",
    "    w1i[:,i]=np.tile(np.repeat(weight,10**(i)), 10**(N-i-1))\n",
    "\n",
    "for i in range(N):\n",
    "    w1[:,0]*=w1i[:,i]\n",
    "#w1temp=w1i[:,i] \n",
    "\n",
    "#z= math.sqrt(2)*z1\n",
    "#weight_nodes= w1/(math.sqrt(math.pi)**N)\n",
    "#epsi_nodes = np.matmul(z,cholesky(vcv)) # if raise error need to come back to check here"
   ]
  },
  {
   "cell_type": "code",
   "execution_count": 19,
   "metadata": {},
   "outputs": [],
   "source": [
    "range(n_nodes)"
   ]
  },
  {
   "cell_type": "code",
   "execution_count": 3,
   "metadata": {},
   "outputs": [],
   "source": [
    "A = np.array([[1,-2j],[2j,5]])\n",
    "\n",
    "sqrt_vcv = cholesky(A)"
   ]
  },
  {
   "cell_type": "code",
   "execution_count": 12,
   "metadata": {},
   "outputs": [],
   "source": [
    "vcv=scipy.linalg.cholesky(0.01**2)"
   ]
  },
  {
   "cell_type": "code",
   "execution_count": 15,
   "metadata": {},
   "outputs": [
    {
     "output_type": "execute_result",
     "data": {
      "text/plain": [
       "numpy.ndarray"
      ]
     },
     "metadata": {},
     "execution_count": 15
    }
   ],
   "source": [
    "type(vcv)"
   ]
  }
 ]
}