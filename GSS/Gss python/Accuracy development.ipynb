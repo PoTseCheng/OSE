{
 "metadata": {
  "language_info": {
   "codemirror_mode": {
    "name": "ipython",
    "version": 3
   },
   "file_extension": ".py",
   "mimetype": "text/x-python",
   "name": "python",
   "nbconvert_exporter": "python",
   "pygments_lexer": "ipython3",
   "version": "3.7.7-final"
  },
  "orig_nbformat": 2,
  "kernelspec": {
   "name": "python3",
   "display_name": "Python 3",
   "language": "python"
  }
 },
 "nbformat": 4,
 "nbformat_minor": 2,
 "cells": [
  {
   "source": [
    "## This notebook aims to develope the Accuracy testing"
   ],
   "cell_type": "markdown",
   "metadata": {}
  },
  {
   "cell_type": "code",
   "execution_count": 1,
   "metadata": {},
   "outputs": [],
   "source": [
    "import numpy as np \n",
    "from tools.Main_Results import*\n",
    "from tools.auxiliary import*\n",
    "import pandas as pd\n",
    "import math"
   ]
  },
  {
   "cell_type": "code",
   "execution_count": 2,
   "metadata": {},
   "outputs": [],
   "source": [
    "df =reading(\"epsi10000.csv\")\n",
    "T  = 10000           #Choose the simulation length for the solution procedure, T<=10,000                    \n",
    "gam     = 1        # Utility-function parameter\n",
    "alpha   = 0.36     # Capital share in output\n",
    "beta    = 0.99     # Discount factor\n",
    "delta   = 0.02     # Depreciation rate \n",
    "rho     = 0.95     # Persistence of the log of the productivity level\n",
    "sigma   = 0.01    # Standard deviation of shocks to the log of the productivity level\n",
    "ks = ( (1-beta+beta*delta) / (alpha*beta) )**(1/(alpha-1) )\n",
    "k = np.array([ks]*(T+1))\n",
    "a= [1]*(T)\n",
    "epsi = df.iloc[:,0].astype(float)*sigma\n",
    "epsi=epsi.tolist()\n",
    "for i in range(1, T):\n",
    "    a[i]=a[i-1]**(rho)*math.exp(epsi[i])\n",
    "a=np.asarray(a)\n",
    "kdamp = 0.01    \n",
    "dif_GSSA_1d = 1e+10  \n",
    "bk_1d  = np.array([0., 0.95, ks*0.05])\n",
    "bk_1d= np.reshape(bk_1d, (3,1))\n",
    "k_old = [ks+1]*(T+1)"
   ]
  },
  {
   "cell_type": "code",
   "execution_count": 3,
   "metadata": {},
   "outputs": [],
   "source": [
    "y = GSSA_main_cycle(T, gam, alpha, beta, delta, kdamp, dif_GSSA_1d, a, bk_1d, k_old, k)"
   ]
  },
  {
   "cell_type": "code",
   "execution_count": 4,
   "metadata": {},
   "outputs": [],
   "source": [
    "y = y.reshape((y.shape[0],1)) #make sure y is in the right shape\n",
    "#The GSSA parameters\n",
    "\n",
    "kdamp = 0.1\n",
    "dif_GSSA_D = 1e+10\n",
    "\n",
    "#The matrices of the polynomial coefficients\n",
    "D_max  = 5 #because of python\n",
    "npol = np.array([3, 6, 10, 15, 21])\n",
    "\n",
    "BK = np.zeros((npol[D_max-1], D_max)) #The original paper use this to store results dont need this\n",
    "\n",
    "# 13. Choose an integration method for computing solutions  \n",
    "IM  = 10\n",
    "\n",
    "n_nodes,epsi_nodes, weight_nodes= GH_Quadrature(Qn=10, N=1, vcv=sigma**2)\n",
    "\n",
    "#make sure to change a into the right shape\n",
    "a = np.reshape(a, (T, 1))\n",
    "a1 = np.matmul(np.power(a,rho), np.exp(epsi_nodes.transpose()))\n",
    "\n",
    "#14. Choose a regression specification \n",
    "RM = 6           # Choose a regression method: \n",
    "                 # 1=OLS,          2=LS-SVD,   3=LAD-PP,  4=LAD-DP, \n",
    "                 # 5=RLS-Tikhonov, 6=RLS-TSVD, 7=RLAD-PP, 8=RLAD-DP\n",
    "normalize = 1    # Option of normalizing the data; 0=unnormalized data; \n",
    "                 # 1=normalized data                    \n",
    "penalty = 7      # Degree of regularization for a regularization methods, \n",
    "                 # RM=5,6,7,8 (must be negative, e.g., -7 for RM=5,7,8 \n",
    "                 # and must be positive, e.g., 7, for RM=6)\n",
    "PF = 0           # Choose a polynomial family; 0=Ordinary (default);  \n",
    "                 # 1=Hermite\n",
    "# 15. Initialize the capital series\n",
    "zb = np.matrix([[np.mean(k[0:T]), np.mean(a[0:T])], [np.std(k[0:T]), np.std(a[0:T])]])\n",
    "z = np.concatenate((k[0:T].reshape(T,1), a[0:T].reshape(T,1)), axis=1)\n",
    "k_old = [ks+1]*(T+1)"
   ]
  },
  {
   "cell_type": "code",
   "execution_count": 5,
   "metadata": {},
   "outputs": [],
   "source": [
    "BK = []\n",
    "for d in range(1, D_max+1):\n",
    "    BK.append(GSSA_poly(T, a, z, d, PF, zb, RM, penalty, normalize, dif_GSSA_D, kdamp, alpha, beta, delta, k, gam, y, k_old, a1, IM, n_nodes, weight_nodes, checker= 0))"
   ]
  },
  {
   "source": [
    "Accuracy:"
   ],
   "cell_type": "markdown",
   "metadata": {}
  },
  {
   "cell_type": "code",
   "execution_count": 13,
   "metadata": {},
   "outputs": [],
   "source": [
    "T_test = 10200\n",
    "\n",
    "df =reading(\"epsi_test.csv\")\n",
    "epsi_test = sigma*df.to_numpy().astype(float)\n",
    "a_test = [1]\n",
    "for i in range(1,T_test):\n",
    "    value = a_test[i-1]**(rho)*math.exp(float(epsi_test[i]))\n",
    "    a_test.append(value)\n",
    "\n",
    "IM_test = 10\n",
    "\n",
    "k_test = [ks]\n",
    "for d in range(1, D_max+1):\n",
    "    for i in range(T_test):\n",
    "        X_test = Ord_Herm_Pol_1(np.array([k_test[i], a_test[i]]).reshape([1,2]),d,PF,zb) # D = 1 for now, we will plug this in another for loop\n",
    "        value = np.matmul(X_test, BK[d-1])\n",
    "        k_test.append(value)\n",
    "        #unfinished function\n",
    "discard = 200 #new defined value\n"
   ]
  },
  {
   "cell_type": "code",
   "execution_count": null,
   "metadata": {},
   "outputs": [],
   "source": [
    "def Accuracy_Test_1(sigma,rho,beta,gam,alpha,delta,k,a,bk,D,IM,PF,zb,discard):\n",
    "    \t\n"
   ]
  },
  {
   "source": [
    "Testing area:"
   ],
   "cell_type": "markdown",
   "metadata": {}
  },
  {
   "cell_type": "code",
   "execution_count": null,
   "metadata": {},
   "outputs": [],
   "source": [
    "k_test.shapefor i in range(T_test):\n",
    "        X_test = Ord_Herm_Pol_1(np.array([k_test[i], a_test[i]]).reshape([1,2]),d,PF,zb) # D = 1 for now, we will plug this in another for loop\n",
    "        value = np.matmul(X_test, BK[d-1])\n",
    "        k_test.append(value)"
   ]
  }
 ]
}