{
 "cells": [
  {
   "cell_type": "code",
   "execution_count": 1,
   "metadata": {},
   "outputs": [],
   "source": [
    "import numpy as np"
   ]
  },
  {
   "cell_type": "code",
   "execution_count": 2,
   "metadata": {},
   "outputs": [],
   "source": [
    "\n",
    "def size(a, b=0, nargout=1):\n",
    "    \"\"\"\n",
    "    >>> size(zeros(3,3)) + 1\n",
    "    matlabarray([[4, 4]])\n",
    "    \"\"\"\n",
    "    s = np.asarray(a).shape\n",
    "    if s is ():\n",
    "        return 1 if b else (1,)*nargout\n",
    "    # a is not a scalar\n",
    "    try:\n",
    "        if b:\n",
    "            return s[b-1]\n",
    "        else:\n",
    "            return matlabarray(s) if nargout <= 1 else s\n",
    "    except IndexError:\n",
    "        return 1"
   ]
  },
  {
   "cell_type": "code",
   "execution_count": null,
   "metadata": {},
   "outputs": [],
   "source": []
  }
 ],
 "metadata": {
  "kernelspec": {
   "display_name": "Python 3",
   "language": "python",
   "name": "python3"
  },
  "language_info": {
   "codemirror_mode": {
    "name": "ipython",
    "version": 3
   },
   "file_extension": ".py",
   "mimetype": "text/x-python",
   "name": "python",
   "nbconvert_exporter": "python",
   "pygments_lexer": "ipython3",
   "version": "3.7.7"
  }
 },
 "nbformat": 4,
 "nbformat_minor": 4
}
