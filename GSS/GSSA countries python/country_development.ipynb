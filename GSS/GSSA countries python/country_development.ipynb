{
 "metadata": {
  "language_info": {
   "codemirror_mode": {
    "name": "ipython",
    "version": 3
   },
   "file_extension": ".py",
   "mimetype": "text/x-python",
   "name": "python",
   "nbconvert_exporter": "python",
   "pygments_lexer": "ipython3",
   "version": "3.7.7-final"
  },
  "orig_nbformat": 2,
  "kernelspec": {
   "name": "python3",
   "display_name": "Python 3",
   "language": "python"
  }
 },
 "nbformat": 4,
 "nbformat_minor": 2,
 "cells": [
  {
   "cell_type": "code",
   "execution_count": 1,
   "metadata": {},
   "outputs": [],
   "source": [
    "import numpy as np\n",
    "import scipy.io\n",
    "import pandas\n",
    "from tools.countries import*\n",
    "from scipy import linalg\n",
    "import time"
   ]
  },
  {
   "source": [
    "Simulation part:"
   ],
   "cell_type": "markdown",
   "metadata": {}
  },
  {
   "cell_type": "code",
   "execution_count": 2,
   "metadata": {},
   "outputs": [],
   "source": [
    "#####User defined parameters\n",
    "N = 2\n",
    "T = 2000\n",
    "#####Model parameters\n",
    "gam = 1\n",
    "alpha = 0.36\n",
    "beta = 0.99\n",
    "delta = 0.025\n",
    "rho = 0.95\n",
    "sigma = 0.01\n",
    "\n",
    "######################################\n",
    "####Variance-covariance matrix\n",
    "vcv = sigma**(2)*(np.eye(N)+ np.ones(N))\n",
    "####Normalising constant\n",
    "A = (1-beta+beta*delta)/alpha/beta\n",
    "####welfare weight\n",
    "tau = 1\n",
    "######################################\n",
    "#The above normalization ensures that steady state\n",
    "k = np.ones((T+1,N))\n",
    "a = np.ones((1,N))\n",
    "#####################################\n",
    "#construct productivity levels\n",
    "a20200 = Productivity(T,N,a,sigma,rho)"
   ]
  },
  {
   "source": [
    "GSSA parameters"
   ],
   "cell_type": "markdown",
   "metadata": {}
  },
  {
   "cell_type": "code",
   "execution_count": 3,
   "metadata": {},
   "outputs": [],
   "source": [
    "#checking part with matlab\n",
    "a20200 = scipy.io.loadmat(\"aT20200N10.mat\").get(\"a20200\")\n",
    "a20200 = a20200[:T, :N]"
   ]
  },
  {
   "cell_type": "code",
   "execution_count": 4,
   "metadata": {},
   "outputs": [],
   "source": [
    "#Compute a first-degree polynomial solution using the one-node Monte Carlo integration method (this #solution will be used as an initial guess for the other cases) \n",
    "\n",
    "start = time.time()\n",
    "kdamp = 0.1\n",
    "dif_1d = 1e+10\n",
    "# Initialize the first-degree capital policy functions of N countries \n",
    "bk_1d= np.vstack((np.zeros((1,N)), np.diag(0.9*np.ones(N)),np.diag(0.1*np.ones(N))))\n",
    "# Initialize the capital series\n",
    "k_old = np.ones((T+1,N))\n",
    "# The main iterative cycle of GSSA\n",
    "while dif_1d > 1e-4*kdamp:\n",
    "    #construct starting numpy for value storages\n",
    "    x = np.empty((T,2*N+1))\n",
    "    for i in range(T):\n",
    "        x[i]= np.hstack((1,k[i], a20200[i]))\n",
    "        k[i+1]= np.hstack((1,k[i], a20200[i]))@bk_1d\n",
    "        #Compute consumption series \n",
    "    C = (A*k[:T]**alpha*a20200[:T]-k[1:T+1]+(1-delta)*k[:T])@np.ones((N,1))\n",
    "    #Individual consumption is the same for all countries\n",
    "    c = C@np.ones((1,N))/N\n",
    "\n",
    "    #Evaluate the percentage (unit-free) difference between the series from the previous and current iterations\n",
    "    dif_1d = np.mean(abs(1-k/k_old))\n",
    "    #Monte Carlo realizations of the right side of the Euler equation\n",
    "    #Consturct containers\n",
    "    Y = np.empty((T-1,N))\n",
    "    for i in range(N):\n",
    "        Y[:T-1,i]= beta*c[1:T,i]**(-gam)/c[:T-1,i]**(-gam)*(1-delta+alpha*A*k[1:T,i]**(alpha-1)*a20200[1:T,i])*k[1:T,i]\n",
    "\n",
    "    #Compute and update the coefficients of the capital policy functions\n",
    "    bk_hat_1d = linalg.inv(x[:T-1].conj().T@x[:T-1])@x[:T-1].conj().T@Y[:T-1]\n",
    "    bk_1d = kdamp*bk_hat_1d+(1-kdamp)*bk_1d\n",
    "    k_old = k.copy()\n",
    "end = time.time()\n",
    "Ncountry_GSSA_1time = end-start"
   ]
  },
  {
   "cell_type": "code",
   "execution_count": 5,
   "metadata": {},
   "outputs": [],
   "source": [
    "#Compute polynomial solutions of the degrees from one to D_max using one of the following integration methods: Monte Carlo, Gauss-Hermite product and monomial non-product methods\n",
    "\n",
    "\n",
    "#Damping parameter for (fixed-point) iteration on the coefficients of the capital policy functions\n",
    "kdamp     = 0.1\n",
    "#Set the initial difference between the series from two iterations in the convergence criterion   \n",
    "dif_GSSA_D  = 1e+10\n",
    "\n",
    "#The matrix of the polynomial coefficients\n",
    "D_max = 5\n",
    "\n",
    "#construct container\n",
    "npol = np.empty((1,D_max))\n",
    "\n",
    "for i in range(1, D_max+1):\n",
    "    npol[0,i-1]= Ord_Polynomial_N(np.hstack((k[0],a20200[0]))[np.newaxis,], i).shape[1]"
   ]
  }
 ]
}