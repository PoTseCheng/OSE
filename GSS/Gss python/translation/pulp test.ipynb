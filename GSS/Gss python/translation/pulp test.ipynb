{
 "metadata": {
  "language_info": {
   "codemirror_mode": {
    "name": "ipython",
    "version": 3
   },
   "file_extension": ".py",
   "mimetype": "text/x-python",
   "name": "python",
   "nbconvert_exporter": "python",
   "pygments_lexer": "ipython3",
   "version": "3.7.7-final"
  },
  "orig_nbformat": 2,
  "kernelspec": {
   "name": "python3",
   "display_name": "Python 3",
   "language": "python"
  }
 },
 "nbformat": 4,
 "nbformat_minor": 2,
 "cells": [
  {
   "cell_type": "code",
   "execution_count": 1,
   "metadata": {},
   "outputs": [],
   "source": [
    "from scipy.optimize import linprog\n",
    "import pandas as pd\n",
    "import numpy as np\n",
    "from pulp import*"
   ]
  },
  {
   "cell_type": "code",
   "execution_count": 2,
   "metadata": {},
   "outputs": [],
   "source": [
    "test = pd.read_csv(\"trial4_x.csv\", encoding = \"ISO-8859-1\")\n",
    "add=test.columns.tolist()\n",
    "test.loc[-1] = add \n",
    "test.index = test.index + 1  \n",
    "test= test.sort_index()\n",
    "test.columns=[\"blah\",\"blah2\",\"blah3\"]\n",
    "x = np.copy(test)\n",
    "\n",
    "test = pd.read_csv(\"trial4_y.csv\", encoding = \"ISO-8859-1\")\n",
    "add=test.columns.tolist()\n",
    "test.loc[-1] = add \n",
    "test.index = test.index + 1  \n",
    "test= test.sort_index()\n",
    "test.columns=[\"blah\"]\n",
    "y= np.copy(test)\n",
    "y[0] = float(y[0])\n",
    "x[0] = [1., 48.29917764394355828, 1.]\n",
    "T = x.shape[0]\n",
    "n = x.shape[1]\n",
    "N = y.shape[1]\n",
    "X1 = np.divide(\n",
    "    (x[:,1:n] - np.matmul(np.ones((T, 1)), x[:,1:n].mean(axis=0).reshape(1, n-1))),\n",
    "    np.matmul(np.ones((T, 1)), np.array([np.std(x[:,i], ddof=1) for i in range(1,n)]).reshape(1,n-1))\n",
    "    )\n",
    "X1 = X1.astype(float)\n",
    "    #unfortunately np.std seems cannot return an array for each column, therefore I was forced to use a list comprehension here\n",
    "    \n",
    "Y1 = np.divide(\n",
    "    (y - np.ones((T,1))*np.mean(y)),\n",
    "    np.matmul(np.ones((T,1)), np.std(y, ddof=1).reshape(1,1))\n",
    "    )\n",
    "Y1 = Y1.astype(float)\n",
    "n1 = n-1"
   ]
  },
  {
   "cell_type": "code",
   "execution_count": 3,
   "metadata": {},
   "outputs": [],
   "source": [
    "BND = [(-100, 100)]*2 + [(0, None)]*2*T\n",
    "f = [0]*n1+ [1]*2*T\n",
    "Aeq = np.concatenate((X1, np.identity(T), -np.identity(T)), axis=1).tolist()\n",
    "Beq = Y1[:,0].reshape((Y1[:,0].shape[0], 1)).tolist()"
   ]
  },
  {
   "cell_type": "code",
   "execution_count": null,
   "metadata": {},
   "outputs": [],
   "source": [
    "res = linprog(f, A_eq=Aeq, b_eq=Beq, bounds= BND)"
   ]
  },
  {
   "cell_type": "code",
   "execution_count": null,
   "metadata": {},
   "outputs": [],
   "source": [
    "#using pulp\n",
    "model "
   ]
  }
 ]
}