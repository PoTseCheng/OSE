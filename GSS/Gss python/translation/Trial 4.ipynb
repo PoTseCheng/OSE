{
 "metadata": {
  "language_info": {
   "codemirror_mode": {
    "name": "ipython",
    "version": 3
   },
   "file_extension": ".py",
   "mimetype": "text/x-python",
   "name": "python",
   "nbconvert_exporter": "python",
   "pygments_lexer": "ipython3",
   "version": "3.7.7-final"
  },
  "orig_nbformat": 2,
  "kernelspec": {
   "name": "python3",
   "display_name": "Python 3"
  }
 },
 "nbformat": 4,
 "nbformat_minor": 2,
 "cells": [
  {
   "cell_type": "code",
   "execution_count": 1,
   "metadata": {},
   "outputs": [],
   "source": [
    "import pandas as pd\n",
    "import numpy as np\n",
    "from numpy.linalg import inv\n",
    "from numpy.linalg import svd\n",
    "from scipy.optimize import linprog\n",
    "from pulp import*"
   ]
  },
  {
   "cell_type": "code",
   "execution_count": 2,
   "metadata": {},
   "outputs": [],
   "source": [
    "import matlab.engine\n",
    "eng = matlab.engine.start_matlab()"
   ]
  },
  {
   "source": [
    "function Num_Stab_Approx"
   ],
   "cell_type": "markdown",
   "metadata": {}
  },
  {
   "cell_type": "code",
   "execution_count": 2,
   "metadata": {},
   "outputs": [],
   "source": [
    "test = pd.read_csv(\"trial4_x.csv\", encoding = \"ISO-8859-1\")\n",
    "add=test.columns.tolist()\n",
    "test.loc[-1] = add \n",
    "test.index = test.index + 1  \n",
    "test= test.sort_index()\n",
    "test.columns=[\"blah\",\"blah2\",\"blah3\"]\n",
    "x = np.copy(test)\n",
    "\n",
    "test = pd.read_csv(\"trial4_y.csv\", encoding = \"ISO-8859-1\")\n",
    "add=test.columns.tolist()\n",
    "test.loc[-1] = add \n",
    "test.index = test.index + 1  \n",
    "test= test.sort_index()\n",
    "test.columns=[\"blah\"]\n",
    "y= np.copy(test)\n",
    "y[0] = float(y[0])\n",
    "x[0] = [1., 48.29917764394355828, 1.]"
   ]
  },
  {
   "source": [
    "Function begin"
   ],
   "cell_type": "markdown",
   "metadata": {}
  },
  {
   "cell_type": "code",
   "execution_count": 3,
   "metadata": {},
   "outputs": [],
   "source": [
    "RM = 6\n",
    "penalty= 7 \n",
    "normalised= 1"
   ]
  },
  {
   "source": [
    "Function body"
   ],
   "cell_type": "markdown",
   "metadata": {}
  },
  {
   "cell_type": "code",
   "execution_count": 4,
   "metadata": {},
   "outputs": [],
   "source": [
    "T = x.shape[0]\n",
    "n = x.shape[1]\n",
    "N = y.shape[1] #Compute the number of columns in Y"
   ]
  },
  {
   "cell_type": "code",
   "execution_count": null,
   "metadata": {},
   "outputs": [],
   "source": [
    "if normalised == 1 or RM >= 5:\n",
    "    \n",
    "    X1 = np.divide(\n",
    "    (x[:,1:n] - np.matmul(np.ones((T, 1)), x[:,1:n].mean(axis=0).reshape(1, n-1))),\n",
    "    np.matmul(np.ones((T, 1)), np.array([np.std(x[:,i], ddof=1) for i in range(1,n)]).reshape(1,n-1))\n",
    "    )\n",
    "    X1 = X1.astype(float)\n",
    "    #unfortunately np.std seems cannot return an array for each column, therefore I was forced to use a list comprehension here\n",
    "    \n",
    "    Y1 = np.divide(\n",
    "    (y - np.ones((T,1))*np.mean(y)),\n",
    "    np.matmul(np.ones((T,1)), np.std(y, ddof=1).reshape(1,1))\n",
    "    )\n",
    "    Y1 = Y1.astype(float)\n",
    "    n1 = n-1 # Number of coefficients in a regression with normalized data is reduced by 1 (no intercept)\n",
    "else:\n",
    "\n",
    "    X1 = x\n",
    "    Y1 = Y          # Leave Y without changes\n",
    "    n1 = n"
   ]
  },
  {
   "cell_type": "code",
   "execution_count": 5,
   "metadata": {},
   "outputs": [],
   "source": [
    "X1 = np.divide(\n",
    "    (x[:,1:n] - np.matmul(np.ones((T, 1)), x[:,1:n].mean(axis=0).reshape(1, n-1))),\n",
    "    np.matmul(np.ones((T, 1)), np.array([np.std(x[:,i], ddof=1) for i in range(1,n)]).reshape(1,n-1))\n",
    "    ) \n",
    "X1 = X1.astype(float)\n",
    "    #unfortunately np.std seems cannot return an array for each column, therefore I was forced to use a list comprehension here\n",
    "Y1 = np.divide(\n",
    "    (y - np.ones((T,1))*np.mean(y)),\n",
    "    np.matmul(np.ones((T,1)), np.std(y, ddof=1).reshape(1,1))\n",
    "    )\n",
    "Y1 = Y1.astype(float)\n",
    "n1 = n-1 # Number of coefficients in a regression with normalized data is reduced by 1 (no intercept)"
   ]
  },
  {
   "cell_type": "code",
   "execution_count": 54,
   "metadata": {},
   "outputs": [],
   "source": [
    "# 3. Regression methods\n",
    "#simple OLS\n",
    "if RM == 1:\n",
    "    B = np.matmul(\n",
    "        inv(np.matmul(X1.transpose(),X1).astype(float)), #need to convert the output to float or else return error\n",
    "        np.matmul(X1.transpose(),Y1)\n",
    "        )\n",
    "#LS-SVD\n",
    "elif RM == 2:\n",
    "    U, S, Vh = svd(X1, full_matrices=False)\n",
    "    V = Vh.T\n",
    "    S_inv = np.diag(1/S)\n",
    "    B = np.matmul(np.matmul(np.matmul(V,S_inv),U.transpose()),Y1) \n",
    "\n",
    "elif RM == 3:\n",
    "    # #This method is strongly discouraged! It is one of the slowest among all other regression\n",
    "    # #construct the boundaries\n",
    "    BND = [(-100, 100)]*n1 + [(0, float(\"inf\"))]*2*T\n",
    "    f = [0]*n1+ [1]*2*T\n",
    "    #specify the Aeq an beq\n",
    "    Aeq = np.concatenate((X1, np.identity(T), -np.identity(T)), axis=1)\n",
    "    B =[]\n",
    "    #solve the equation\n",
    "    for j in range(N):\n",
    "        beq = Y1[:,j].tolist()\n",
    "        result = linprog(f, A_eq = Aeq, b_eq = beq, bounds= BND , method='revised simplex')\n",
    "        B.append(result.x) \n",
    "    \n",
    "    #Or so it should. Unfortunately, the Scipy package will took ages to even finish computing one optimisation solution given the size of Aeq and beq. Without other choices, I import the function that does this part of computation from matlab, which is able to finish the computation within seconds.\n",
    "elif RM == 4:\n",
    "    #Also extremely slow\n",
    "    ##Define Boundary\n",
    "    BND = [(-1,1)]*T\n",
    "    #Define aeq and beq for linprog\n",
    "    Aeq = X1.transpose()\n",
    "    beq = np.zeros((n1, 1))\n",
    "    B = []\n",
    "    for i in range(N):\n",
    "        f = -Y1[:,i]\n",
    "        result = linprog(f, A_eq = Aeq, b_eq = beq, bounds= BND)\n",
    "        B.append(result.x)\n",
    "\n",
    "#RLS-Tikhonov\n",
    "elif RM == 5:\n",
    "    B = np.matmul(\n",
    "    inv(\n",
    "        np.matmul(X1.transpose(),X1) + \n",
    "        (T/n1)*np.identity(n1)*10**(penalty)\n",
    "        ),\n",
    "    np.matmul(X1.transpose(),Y1)\n",
    "    )\n",
    "\n",
    "# RLS-TSVD\n",
    "elif RM == 6:\n",
    "    U, S, Vh = svd(X1, full_matrices=False)\n",
    "    V = Vh.T\n",
    "    r = np.count_nonzero(np.divide(np.diag(S).max(), np.diag(S))<= 10**(penalty))\n",
    "    Sr_inv = np.diag(np.divide(1., S))\n",
    "    B = np.matmul(\n",
    "        np.matmul(\n",
    "            np.matmul(V, Sr_inv),\n",
    "            U.transpose()\n",
    "            ),\n",
    "        Y1)\n",
    "#RM == 7 and 8 will take even more time than RM == 4 and 5 and possibly break the conclusion directly as computational expense render this method unusable. It is therefore not included in the final code\n"
   ]
  },
  {
   "source": [],
   "cell_type": "markdown",
   "metadata": {}
  },
  {
   "cell_type": "code",
   "execution_count": 22,
   "metadata": {},
   "outputs": [
    {
     "output_type": "execute_result",
     "data": {
      "text/plain": [
       "array([126.23748617,  63.71889112])"
      ]
     },
     "metadata": {},
     "execution_count": 22
    }
   ],
   "source": [
    "if normalised == 1 or RM >= 5:\n",
    "    B2 = np.multiply((1/np.asarray([np.std(x[:,i], ddof=1) for i in range(1,n)])).reshape((2,1))*np.std(y, ddof=1),B)\n",
    "    B1 = (y.mean()- np.matmul(np.asarray([x[:,i].mean() for i in range(1,n)]),B2)).reshape(1,1)\n",
    "    B = np.concatenate((B1,B2))\n"
   ]
  },
  {
   "cell_type": "code",
   "execution_count": 65,
   "metadata": {},
   "outputs": [],
   "source": []
  },
  {
   "cell_type": "code",
   "execution_count": 53,
   "metadata": {},
   "outputs": [
    {
     "output_type": "execute_result",
     "data": {
      "text/plain": [
       "array([[0.96861418],\n",
       "       [0.97056885],\n",
       "       [3.17423893]])"
      ]
     },
     "metadata": {},
     "execution_count": 53
    }
   ],
   "source": []
  },
  {
   "cell_type": "code",
   "execution_count": 64,
   "metadata": {},
   "outputs": [],
   "source": []
  },
  {
   "cell_type": "code",
   "execution_count": 60,
   "metadata": {},
   "outputs": [
    {
     "output_type": "execute_result",
     "data": {
      "text/plain": [
       "array([50.37881105])"
      ]
     },
     "metadata": {},
     "execution_count": 60
    }
   ],
   "source": []
  },
  {
   "source": [
    "IF got time test pulp"
   ],
   "cell_type": "markdown",
   "metadata": {}
  },
  {
   "cell_type": "code",
   "execution_count": 9,
   "metadata": {},
   "outputs": [],
   "source": [
    "prob = LpProblem(\"number constraint\", LpMinimize)"
   ]
  },
  {
   "cell_type": "code",
   "execution_count": null,
   "metadata": {},
   "outputs": [],
   "source": []
  }
 ]
}