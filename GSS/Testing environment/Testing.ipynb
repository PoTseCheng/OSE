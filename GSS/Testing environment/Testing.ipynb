{
 "metadata": {
  "language_info": {
   "codemirror_mode": {
    "name": "ipython",
    "version": 3
   },
   "file_extension": ".py",
   "mimetype": "text/x-python",
   "name": "python",
   "nbconvert_exporter": "python",
   "pygments_lexer": "ipython3",
   "version": 3
  },
  "orig_nbformat": 2
 },
 "nbformat": 4,
 "nbformat_minor": 2,
 "cells": [
  {
   "cell_type": "code",
   "execution_count": null,
   "metadata": {},
   "outputs": [],
   "source": [
    "import pandas as pd\n",
    "import numpy as np\n",
    "import scipy as sci\n",
    "import math\n",
    "import time\n",
    "from tools.auxiliary import*\n",
    "from numpy.linalg import inv\n",
    "\n",
    "#below will be merged later to auxilary\n",
    "from tools.GH_Quadrature import*\n",
    "from tools.Ord_Herm_Pol_1 import*\n",
    "from tools.Num_Stab_Approx import*"
   ]
  },
  {
   "cell_type": "code",
   "execution_count": null,
   "metadata": {},
   "outputs": [],
   "source": [
    "df =reading(\"epsi10000.csv\")"
   ]
  },
  {
   "cell_type": "code",
   "execution_count": null,
   "metadata": {},
   "outputs": [],
   "source": [
    "T  = 10000           #Choose the simulation length for the solution procedure, T<=10,000                    \n",
    "gam     = 1        # Utility-function parameter\n",
    "alpha   = 0.36     # Capital share in output\n",
    "beta    = 0.99     # Discount factor\n",
    "delta   = 0.02     # Depreciation rate \n",
    "rho     = 0.95     # Persistence of the log of the productivity level\n",
    "sigma   = 0.01    # Standard deviation of shocks to the log of the productivity level\n",
    "ks = ( (1-beta+beta*delta) / (alpha*beta) )**(1/(alpha-1) )\n",
    "\n",
    "#4. Initial condition\n",
    "k = np.array([ks]*(T+1))\n",
    "a= [1]*(T)\n",
    "# maybe add generation of epsi1000 if got time\n",
    "epsi = df.iloc[:,0].astype(float)*sigma\n",
    "epsi=epsi.tolist()\n",
    "\n",
    "for i in range(1, T):\n",
    "    a[i]=a[i-1]**(rho)*math.exp(epsi[i])\n",
    "    \n",
    "\n",
    "a=np.asarray(a)\n",
    "\n",
    "#Compute a first-degree polynomial solution using the one-node Monte Carlo  \n",
    "# integration method (this solution will be used as an initial guess for the other cases) \n",
    "#start = time.time()\n",
    "\n",
    "#end = time.time()\n",
    "#duration= (end - start)\n",
    "\n",
    "##6. The GSSA parameters  \n",
    "kdamp = 0.01    # Damping parameter for (fixed-point) iteration on \n",
    "                      # the coefficients of the capital policy function\n",
    "dif_GSSA_1d = 1e+10  # Set the initial difference between the series from\n",
    "                      # two iterations in the convergence criterion (condition\n",
    "                      # (10) in JMM, 2011) to a very large number\n",
    "#Initialize the first-degree capital policy function\n",
    "bk_1d  = np.array([0., 0.95, ks*0.05])\n",
    "bk_1d= np.reshape(bk_1d, (3,1))\n",
    "#8. Initialize the capital series\n",
    "k_old = [ks+1]*(T+1)\n",
    "dif_GSSA_1d = 1e+10\n",
    "while dif_GSSA_1d > 1e-4*kdamp:\n",
    "    x=[]\n",
    "    for i in range(0,T):\n",
    "        x.append([1,k[i],a[i]])\n",
    "        k[i+1]=np.matmul(x[i], bk_1d)\n",
    "    x=np.asarray(x)\n",
    "    c= np.multiply(np.power(k[0:T], alpha),a)+ (1-delta)*k[0:T]-k[1:T+1]\n",
    "    y= np.multiply(np.divide(beta*np.power(c[1:T],-gam),np.power(c[0:T-1], -gam))*(1-delta+np.multiply(alpha*np.power(k[1:T],(alpha-1)),a[1:T])),k[1:T])\n",
    "    dif_GSSA_1d = np.mean(abs(1-np.divide(k,k_old)))\n",
    "    print(dif_GSSA_1d) #for values checking\n",
    "    bk_hat_1d= np.matmul(inv(np.matmul(np.transpose(x[0:T-1,:]),x[0:T-1,:])),np.matmul(np.transpose(x[0:T-1,:]),y[0:T-1]))\n",
    "    bk_1d = (kdamp*bk_hat_1d+ (1-kdamp)*bk_1d.reshape(1,3)).reshape(3,1)\n",
    "    k_old=np.copy(k)"
   ]
  },
  {
   "cell_type": "code",
   "execution_count": null,
   "metadata": {},
   "outputs": [],
   "source": [
    "#The GSSA parameters\n",
    "\n",
    "kdamp = 0.1\n",
    "dif_GSSA_D = 1e+10\n",
    "\n",
    "#The matrices of the polynomial coefficients\n",
    "D_max  = 5 #because of python\n",
    "npol = np.array([3, 6, 10, 15, 21])\n",
    "\n",
    "BK = np.zeros((npol[D_max-1], D_max))\n",
    "\n",
    "# 13. Choose an integration method for computing solutions  \n",
    "IM  = 10\n",
    "\n",
    "n_nodes,epsi_nodes, weight_nodes= GH_Quadrature(Qn=10, N=1, vcv=sigma**2)\n",
    "\n",
    "#make sure to change a into the right shape\n",
    "a = np.reshape(a, (T, 1))\n",
    "a1 = np.matmul(np.power(a,rho), np.exp(epsi_nodes.transpose()))\n",
    "\n",
    "#14. Choose a regression specification \n",
    "RM = 6           # Choose a regression method: \n",
    "                 # 1=OLS,          2=LS-SVD,   3=LAD-PP,  4=LAD-DP, \n",
    "                 # 5=RLS-Tikhonov, 6=RLS-TSVD, 7=RLAD-PP, 8=RLAD-DP\n",
    "normalize = 1    # Option of normalizing the data; 0=unnormalized data; \n",
    "                 # 1=normalized data                    \n",
    "penalty = 7      # Degree of regularization for a regularization methods, \n",
    "                 # RM=5,6,7,8 (must be negative, e.g., -7 for RM=5,7,8 \n",
    "                 # and must be positive, e.g., 7, for RM=6)\n",
    "PF = 0           # Choose a polynomial family; 0=Ordinary (default);  \n",
    "                 # 1=Hermite\n",
    "# 15. Initialize the capital series\n",
    "zb = np.matrix([[np.mean(k[0:T]), np.mean(a[0:T])], [np.std(k[0:T]), np.std(a[0:T])]])\n",
    "z = np.concatenate((k[0:T].reshape(T,1), a[0:T].reshape(T,1)), axis=1)\n"
   ]
  },
  {
   "source": [
    "Target testing area:"
   ],
   "cell_type": "markdown",
   "metadata": {}
  },
  {
   "cell_type": "code",
   "execution_count": null,
   "metadata": {},
   "outputs": [],
   "source": [
    "X = Ord_Herm_Pol_1(z=z, D=1, PF=PF, zb=zb)\n",
    "bk_D = Num_Stab_Approx(X[0:T-1,:],y.reshape((y.shape[0],1)),RM,penalty,normalize)"
   ]
  }
 ]
}