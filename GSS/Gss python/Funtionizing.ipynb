{
 "metadata": {
  "language_info": {
   "codemirror_mode": {
    "name": "ipython",
    "version": 3
   },
   "file_extension": ".py",
   "mimetype": "text/x-python",
   "name": "python",
   "nbconvert_exporter": "python",
   "pygments_lexer": "ipython3",
   "version": "3.7.7-final"
  },
  "orig_nbformat": 2,
  "kernelspec": {
   "name": "python3",
   "display_name": "Python 3",
   "language": "python"
  }
 },
 "nbformat": 4,
 "nbformat_minor": 2,
 "cells": [
  {
   "cell_type": "code",
   "execution_count": 1,
   "metadata": {},
   "outputs": [],
   "source": [
    "import pandas as pd\n",
    "import numpy as np\n",
    "import scipy as sci\n",
    "import math\n",
    "import time\n",
    "from tools.auxiliary import*\n",
    "from numpy.linalg import inv\n",
    "\n",
    "#below will be merged later to auxilary\n",
    "from tools.GH_Quadrature import*\n",
    "from tools.Ord_Herm_Pol_1 import*\n",
    "from tools.Num_Stab_Approx import*"
   ]
  },
  {
   "cell_type": "code",
   "execution_count": 2,
   "metadata": {},
   "outputs": [],
   "source": [
    "df =reading(\"epsi10000.csv\")\n",
    "T  = 10000           #Choose the simulation length for the solution procedure, T<=10,000                    \n",
    "gam     = 1        # Utility-function parameter\n",
    "alpha   = 0.36     # Capital share in output\n",
    "beta    = 0.99     # Discount factor\n",
    "delta   = 0.02     # Depreciation rate \n",
    "rho     = 0.95     # Persistence of the log of the productivity level\n",
    "sigma   = 0.01    # Standard deviation of shocks to the log of the productivity level\n",
    "ks = ( (1-beta+beta*delta) / (alpha*beta) )**(1/(alpha-1) )\n",
    "k = np.array([ks]*(T+1))\n",
    "a= [1]*(T)\n",
    "epsi = df.iloc[:,0].astype(float)*sigma\n",
    "epsi=epsi.tolist()\n",
    "for i in range(1, T):\n",
    "    a[i]=a[i-1]**(rho)*math.exp(epsi[i])\n",
    "a=np.asarray(a)\n",
    "kdamp = 0.01    \n",
    "dif_GSSA_1d = 1e+10  \n",
    "bk_1d  = np.array([0., 0.95, ks*0.05])\n",
    "bk_1d= np.reshape(bk_1d, (3,1))\n",
    "k_old = [ks+1]*(T+1)"
   ]
  },
  {
   "source": [
    "Target:"
   ],
   "cell_type": "markdown",
   "metadata": {}
  },
  {
   "cell_type": "code",
   "execution_count": 3,
   "metadata": {},
   "outputs": [],
   "source": [
    "def GSSA_main_cycle(T, gam, alpha, beta, delta, kdamp, dif_GSSA_1d, a, bk_1d, k_old, checker = 0):\n",
    "    '''\n",
    "    Compute a first-degree polynomial solution using the one-node Monte Carlo integration method.\n",
    "\n",
    "            Parameters:\n",
    "                    T (int): A decimal integer\n",
    "                    gam (int): Another decimal integer\n",
    "                    alpha:\n",
    "                    beta:\n",
    "                    delta: \n",
    "                    kdamp: \n",
    "                    dif_GSSA_1d: \n",
    "                    a: \n",
    "                    bk_1d:\n",
    "                    k_old: \n",
    "                    checker (int): A checker for the while loop, used to validate if the loop is running correctly or not.\n",
    "\n",
    "            Returns:\n",
    "                    numpy array: A numpy array of floats with the shape of (9999,)\n",
    "    '''\n",
    "    while dif_GSSA_1d > 1e-4*kdamp:\n",
    "        x=[]\n",
    "        for i in range(0,T):\n",
    "            x.append([1,k[i],a[i]])\n",
    "            k[i+1]=np.matmul(x[i], bk_1d)\n",
    "        x=np.asarray(x)\n",
    "        c= np.multiply(np.power(k[0:T], alpha),a)+ (1-delta)*k[0:T]-k[1:T+1]\n",
    "        y= np.multiply(np.divide(beta*np.power(c[1:T],-gam),np.power(c[0:T-1], -gam))*(1-delta+np.multiply(alpha*np.power(k[1:T],(alpha-1)),a[1:T])),k[1:T])\n",
    "        dif_GSSA_1d = np.mean(abs(1-np.divide(k,k_old)))\n",
    "        if checker == 1:\n",
    "            print(dif_GSSA_1d) #for values checking\n",
    "        bk_hat_1d= np.matmul(inv(np.matmul(np.transpose(x[0:T-1,:]),x[0:T-1,:])),np.matmul(np.transpose(x[0:T-1,:]),y[0:T-1]))\n",
    "        bk_1d = (kdamp*bk_hat_1d+ (1-kdamp)*bk_1d.reshape(1,3)).reshape(3,1)\n",
    "        k_old=np.copy(k)\n",
    "    return y"
   ]
  },
  {
   "cell_type": "code",
   "execution_count": 4,
   "metadata": {},
   "outputs": [],
   "source": [
    "y = GSSA_main_cycle(T, gam, alpha, beta, delta, kdamp, dif_GSSA_1d, a, bk_1d, k_old)"
   ]
  },
  {
   "cell_type": "code",
   "execution_count": 5,
   "metadata": {},
   "outputs": [],
   "source": [
    "#The GSSA parameters\n",
    "\n",
    "kdamp = 0.1\n",
    "dif_GSSA_D = 1e+10\n",
    "\n",
    "#The matrices of the polynomial coefficients\n",
    "D_max  = 5 #because of python\n",
    "npol = np.array([3, 6, 10, 15, 21])\n",
    "\n",
    "BK = np.zeros((npol[D_max-1], D_max))\n",
    "\n",
    "# 13. Choose an integration method for computing solutions  \n",
    "IM  = 10\n",
    "\n",
    "n_nodes,epsi_nodes, weight_nodes= GH_Quadrature(Qn=10, N=1, vcv=sigma**2)\n",
    "\n",
    "#make sure to change a into the right shape\n",
    "a = np.reshape(a, (T, 1))\n",
    "a1 = np.matmul(np.power(a,rho), np.exp(epsi_nodes.transpose()))\n",
    "\n",
    "#14. Choose a regression specification \n",
    "RM = 6           # Choose a regression method: \n",
    "                 # 1=OLS,          2=LS-SVD,   3=LAD-PP,  4=LAD-DP, \n",
    "                 # 5=RLS-Tikhonov, 6=RLS-TSVD, 7=RLAD-PP, 8=RLAD-DP\n",
    "normalize = 1    # Option of normalizing the data; 0=unnormalized data; \n",
    "                 # 1=normalized data                    \n",
    "penalty = 7      # Degree of regularization for a regularization methods, \n",
    "                 # RM=5,6,7,8 (must be negative, e.g., -7 for RM=5,7,8 \n",
    "                 # and must be positive, e.g., 7, for RM=6)\n",
    "PF = 0           # Choose a polynomial family; 0=Ordinary (default);  \n",
    "                 # 1=Hermite\n",
    "# 15. Initialize the capital series\n",
    "zb = np.matrix([[np.mean(k[0:T]), np.mean(a[0:T])], [np.std(k[0:T]), np.std(a[0:T])]])\n",
    "z = np.concatenate((k[0:T].reshape(T,1), a[0:T].reshape(T,1)), axis=1)\n",
    "k_old = [ks+1]*(T+1)"
   ]
  },
  {
   "cell_type": "code",
   "execution_count": 6,
   "metadata": {},
   "outputs": [],
   "source": [
    "d= 1"
   ]
  },
  {
   "cell_type": "code",
   "execution_count": 7,
   "metadata": {},
   "outputs": [
    {
     "output_type": "stream",
     "name": "stdout",
     "text": [
      "0.035193270265045595\n",
      "0.00012850550683394296\n",
      "0.00011964777526948686\n",
      "0.00011145127452404137\n",
      "0.00010385937142510122\n",
      "9.682124228113684e-05\n",
      "9.029116532016695e-05\n",
      "8.422791081096829e-05\n",
      "7.85942141060351e-05\n"
     ]
    }
   ],
   "source": [
    "X = Ord_Herm_Pol_1(z=z, D=d, PF=PF, zb=zb)\n",
    "bk_D = Num_Stab_Approx(X[0:T-1,:],y.reshape((y.shape[0],1)),RM,penalty,normalize)\n",
    "while dif_GSSA_D > 1e-4/10**(d*kdamp):\n",
    "    for i in range(T):\n",
    "        X[i]= Ord_Herm_Pol_1(np.array([k[i],float(a[i])]).reshape((1,2)), D=d, PF=PF, zb=zb)\n",
    "        k[i+1] = np.matmul(X[i], bk_D)\n",
    "    c = np.multiply(np.power(k[0:T], alpha).reshape((T,1)), a) + (1-delta)*k[0:T].reshape(T,1)-k[1:T+1].reshape(T,1)\n",
    "    k1 = k[1:T+1]\n",
    "    c1 = np.zeros((T,n_nodes))\n",
    "    if IM == 0:\n",
    "        y = np.multiply(np.divide(beta*np.power(c[1:T],-gam),np.power(c[0:T-1], -gam))*(1-delta+np.multiply(alpha*np.power(k[1:T],(alpha-1)).reshape(T-1,1),a[1:T])),k[1:T].reshape(T-1, 1))\n",
    "    else:\n",
    "        for i in range(n_nodes):\n",
    "            k2_prep = np.concatenate((k1.reshape(T,1), a1[:,i].reshape(T,1)), 1)  #preparation for k2 @\n",
    "            k2= np.matmul(Ord_Herm_Pol_1(k2_prep,d,PF,zb), bk_D)  #1 equals D\n",
    "            c1[:,i] = np.ravel((np.multiply(np.power(k1, alpha),a1[:,i])+ (1-delta)*k1).reshape(T,1) - k2)\n",
    "        k1_dupl = np.tile(k1, (n_nodes,1)).transpose() \n",
    "        c_dupl = np.tile(np.ravel(c), (n_nodes,1)).transpose()\n",
    "        y = np.matmul(np.multiply(np.divide(beta*np.power(c1,-gam),np.power(c_dupl, -gam))*(1-delta+np.multiply(alpha*np.power(k1_dupl,(alpha-1)),a1)),k1_dupl), weight_nodes)\n",
    "    \n",
    "    dif_GSSA_D = np.mean(abs(1-np.divide(k,k_old)))\n",
    "    print(dif_GSSA_D) #for values checking\n",
    "    bk_hat_D = Num_Stab_Approx(X[0:T-1,:],y[0:T-1,:],RM,penalty,normalize)\n",
    "    bk_D = (kdamp*bk_hat_D+ (1-kdamp)*bk_D)\n",
    "    k_old=np.copy(k)"
   ]
  },
  {
   "cell_type": "code",
   "execution_count": null,
   "metadata": {},
   "outputs": [],
   "source": [
    "def "
   ]
  },
  {
   "cell_type": "code",
   "execution_count": 19,
   "metadata": {},
   "outputs": [],
   "source": [
    "c = np.multiply(np.power(k[0:T], alpha).reshape((T,1)), a) + (1-delta)*k[0:T].reshape(T,1)-k[1:T+1].reshape(T,1)\n",
    "k1 = k[1:T+1]\n",
    "c1 = np.zeros((T,n_nodes))"
   ]
  },
  {
   "source": [
    "Problem:"
   ],
   "cell_type": "markdown",
   "metadata": {}
  },
  {
   "cell_type": "code",
   "execution_count": 22,
   "metadata": {},
   "outputs": [],
   "source": [
    "for i in range(n_nodes):\n",
    "            k2_prep = np.concatenate((k1.reshape(T,1), a1[:,i].reshape(T,1)), 1)  #preparation for k2 @\n",
    "            k2= np.matmul(Ord_Herm_Pol_1(k2_prep,d,PF,zb), bk_D)  #1 equals D\n",
    "            c1[:,i] = np.ravel((np.multiply(np.power(k1, alpha),a1[:,i])+ (1-delta)*k1).reshape(T,1) - k2)"
   ]
  },
  {
   "cell_type": "code",
   "execution_count": 13,
   "metadata": {},
   "outputs": [
    {
     "output_type": "execute_result",
     "data": {
      "text/plain": [
       "array([0.9525672 , 0.93998278, 0.93450804, ..., 0.8995193 , 0.90978163,\n",
       "       0.90539921])"
      ]
     },
     "metadata": {},
     "execution_count": 13
    }
   ],
   "source": [
    "a1[:,9]"
   ]
  },
  {
   "cell_type": "code",
   "execution_count": 17,
   "metadata": {},
   "outputs": [],
   "source": [
    "test = (np.multiply(np.power(k1, alpha),a1[:,9])+ (1-delta)*k1).reshape(T,1) - k2\n",
    "#9 needs to be replace to i"
   ]
  },
  {
   "cell_type": "code",
   "execution_count": 23,
   "metadata": {},
   "outputs": [],
   "source": [
    "k1_dupl = np.tile(k1, (n_nodes,1)).transpose() \n",
    "c_dupl = np.tile(np.ravel(c), (n_nodes,1)).transpose()\n",
    "y = np.matmul(np.multiply(np.divide(beta*np.power(c1,-gam),np.power(c_dupl, -gam))*(1-delta+np.multiply(alpha*np.power(k1_dupl,(alpha-1)),a1)),k1_dupl), weight_nodes)"
   ]
  }
 ]
}