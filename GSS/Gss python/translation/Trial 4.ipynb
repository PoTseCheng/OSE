{
 "metadata": {
  "language_info": {
   "codemirror_mode": {
    "name": "ipython",
    "version": 3
   },
   "file_extension": ".py",
   "mimetype": "text/x-python",
   "name": "python",
   "nbconvert_exporter": "python",
   "pygments_lexer": "ipython3",
   "version": "3.7.7-final"
  },
  "orig_nbformat": 2,
  "kernelspec": {
   "name": "python3",
   "display_name": "Python 3"
  }
 },
 "nbformat": 4,
 "nbformat_minor": 2,
 "cells": [
  {
   "cell_type": "code",
   "execution_count": 110,
   "metadata": {},
   "outputs": [],
   "source": [
    "import pandas as pd\n",
    "import numpy as np\n",
    "from numpy.linalg import inv\n",
    "from numpy.linalg import svd\n",
    "from scipy.optimize import linprog"
   ]
  },
  {
   "source": [
    "function Num_Stab_Approx"
   ],
   "cell_type": "markdown",
   "metadata": {}
  },
  {
   "source": [
    "RM=6\n",
    "penalty= 7\n",
    "normalised= 1\n",
    "X(1:T-1,:)= trial 4 datax\n",
    "y(1:T-1,:)=trial 4 datay\n",
    "X is generated assuming d=1"
   ],
   "cell_type": "markdown",
   "metadata": {}
  },
  {
   "cell_type": "code",
   "execution_count": 19,
   "metadata": {},
   "outputs": [],
   "source": [
    "test = pd.read_csv(\"trial4_x.csv\", encoding = \"ISO-8859-1\")\n",
    "add=test.columns.tolist()\n",
    "test.loc[-1] = add \n",
    "test.index = test.index + 1  \n",
    "test= test.sort_index()\n",
    "test.columns=[\"blah\",\"blah2\",\"blah3\"]\n",
    "x = np.copy(test)\n",
    "\n",
    "test = pd.read_csv(\"trial4_y.csv\", encoding = \"ISO-8859-1\")\n",
    "add=test.columns.tolist()\n",
    "test.loc[-1] = add \n",
    "test.index = test.index + 1  \n",
    "test= test.sort_index()\n",
    "test.columns=[\"blah\"]\n",
    "y= np.copy(test)\n",
    "y[0] = float(y[0])\n",
    "x[0] = [1., 48.29917764394355828, 1.]"
   ]
  },
  {
   "source": [
    "Function begin"
   ],
   "cell_type": "markdown",
   "metadata": {}
  },
  {
   "cell_type": "code",
   "execution_count": 25,
   "metadata": {},
   "outputs": [],
   "source": [
    "RM = 6\n",
    "penalty= 7 \n",
    "normalised= 1"
   ]
  },
  {
   "source": [
    "Function body"
   ],
   "cell_type": "markdown",
   "metadata": {}
  },
  {
   "cell_type": "code",
   "execution_count": 24,
   "metadata": {},
   "outputs": [],
   "source": [
    "T = x.shape[0]\n",
    "n = x.shape[1]\n",
    "N = y.shape[1] #Compute the number of columns in Y"
   ]
  },
  {
   "cell_type": "code",
   "execution_count": null,
   "metadata": {},
   "outputs": [],
   "source": [
    "if normalised == 1 or RM >= 5:\n",
    "    \n",
    "    X1 = np.divide(\n",
    "    (x[:,1:n] - np.matmul(np.ones((T, 1)), x[:,1:n].mean(axis=0).reshape(1, n-1))),\n",
    "    np.matmul(np.ones((T, 1)), np.array([np.std(x[:,i], ddof=1) for i in range(1,n)]).reshape(1,n-1))\n",
    "    )\n",
    "    X1 = X1.astype(float)\n",
    "    #unfortunately np.std seems cannot return an array for each column, therefore I was forced to use a list comprehension here\n",
    "    \n",
    "    Y1 = np.divide(\n",
    "    (y - np.ones((T,1))*np.mean(y)),\n",
    "    np.matmul(np.ones((T,1)), np.std(y, ddof=1).reshape(1,1))\n",
    "    )\n",
    "    Y1 = Y1.astype(float)\n",
    "    n1 = n-1 # Number of coefficients in a regression with normalized data is reduced by 1 (no intercept)\n",
    "else:\n",
    "\n",
    "    X1 = x\n",
    "    Y1 = Y          # Leave Y without changes\n",
    "    n1 = n"
   ]
  },
  {
   "cell_type": "code",
   "execution_count": 95,
   "metadata": {},
   "outputs": [],
   "source": [
    "X1 = np.divide(\n",
    "    (x[:,1:n] - np.matmul(np.ones((T, 1)), x[:,1:n].mean(axis=0).reshape(1, n-1))),\n",
    "    np.matmul(np.ones((T, 1)), np.array([np.std(x[:,i], ddof=1) for i in range(1,n)]).reshape(1,n-1))\n",
    "    ) \n",
    "X1 = X1.astype(float)\n",
    "    #unfortunately np.std seems cannot return an array for each column, therefore I was forced to use a list comprehension here\n",
    "Y1 = np.divide(\n",
    "    (y - np.ones((T,1))*np.mean(y)),\n",
    "    np.matmul(np.ones((T,1)), np.std(y, ddof=1).reshape(1,1))\n",
    "    )\n",
    "Y1 = Y1.astype(float)\n",
    "n1 = n-1 # Number of coefficients in a regression with normalized data is reduced by 1 (no intercept)"
   ]
  },
  {
   "cell_type": "code",
   "execution_count": 54,
   "metadata": {},
   "outputs": [],
   "source": [
    "# 3. Regression methods\n",
    "#simple OLS\n",
    "if RM == 1:\n",
    "    B = np.matmul(\n",
    "        inv(np.matmul(X1.transpose(),X1).astype(float)), #need to convert the output to float or else return error\n",
    "        np.matmul(X1.transpose(),Y1)\n",
    "        )\n",
    "#LS-SVD\n",
    "elif RM == 2:\n",
    "    U, S, V = svd(X1, full_matrices=False) #The minus is in the opposite side compared to matlab, but should not have a difference in result\n",
    "    S_inv = np.diag(1/S)\n",
    "    B = np.matmul(np.matmul(np.matmul(V,S_inv),U.transpose()),Y1) #The B will have the same value but will be upside down compared to matlab as a result\n",
    "\n",
    "#check if changes result or not###\n",
    "elif RM == 3:\n"
   ]
  },
  {
   "cell_type": "code",
   "execution_count": 82,
   "metadata": {},
   "outputs": [],
   "source": [
    "U, S, V = svd(X1, full_matrices=False) #The minus is in the opposite side compared to matlab, but should not have a difference in result\n",
    "S_inv = np.diag(1/S)\n",
    "B = np.matmul(np.matmul(np.matmul(V,S_inv),U.transpose()),Y1) #The B will have the same value but will be upside down compared to matlab as a result\n",
    "\n",
    "#check if changes result or not###"
   ]
  },
  {
   "cell_type": "code",
   "execution_count": 91,
   "metadata": {},
   "outputs": [],
   "source": [
    "#LAD-PP\n",
    "LB1 = np.repeat(-100, n1)\n",
    "LB = np.append(LB1, np.zeros(2*T)).reshape((2*T + n1, 1))\n",
    "UB1 = np.repeat(100, n1)\n",
    "UB = np.append(UB1, np.zeros(2*T)).reshape((2*T + n1, 1))\n",
    "\n",
    "f = np.append(np.zeros(n1), np.ones(2*T)).reshape((2*T + n1, 1))\n",
    "\n",
    "Aeq = np.concatenate((X1, np.identity(T), -np.identity(T)), axis=1)\n",
    "\n",
    "B = np.zeros((X1.shape[1],N))"
   ]
  },
  {
   "cell_type": "code",
   "execution_count": 109,
   "metadata": {},
   "outputs": [],
   "source": [
    "linprog(f, A_eq = Aeq, b_eq = beq, bounds=[LB, UB] )"
   ]
  },
  {
   "cell_type": "code",
   "execution_count": 108,
   "metadata": {},
   "outputs": [
    {
     "output_type": "execute_result",
     "data": {
      "text/plain": [
       "2"
      ]
     },
     "metadata": {},
     "execution_count": 108
    }
   ],
   "source": []
  }
 ]
}