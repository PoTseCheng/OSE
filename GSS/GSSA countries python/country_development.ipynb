{
 "metadata": {
  "language_info": {
   "codemirror_mode": {
    "name": "ipython",
    "version": 3
   },
   "file_extension": ".py",
   "mimetype": "text/x-python",
   "name": "python",
   "nbconvert_exporter": "python",
   "pygments_lexer": "ipython3",
   "version": "3.7.7-final"
  },
  "orig_nbformat": 2,
  "kernelspec": {
   "name": "python3",
   "display_name": "Python 3",
   "language": "python"
  }
 },
 "nbformat": 4,
 "nbformat_minor": 2,
 "cells": [
  {
   "cell_type": "code",
   "execution_count": 1,
   "metadata": {},
   "outputs": [],
   "source": [
    "import numpy as np\n",
    "import scipy.io\n",
    "import pandas as pd\n",
    "from tools.countries import*\n",
    "from scipy import linalg\n",
    "import time"
   ]
  },
  {
   "cell_type": "code",
   "execution_count": 2,
   "metadata": {},
   "outputs": [],
   "source": [
    "Time_1, stage1_1, Max_1, Mean_1, Test_time_1 = GSSA_country_showcase()"
   ]
  },
  {
   "cell_type": "code",
   "execution_count": 2,
   "metadata": {},
   "outputs": [],
   "source": [
    "#works!\n",
    "# maybe dont use showcase and just go for benchmarking instead\n",
    "Time_1, stage1_1, Max_1, Mean_1, Test_time_1 = GSSA_country(2,1)\n",
    "Time_2, stage1_2, Max_2, Mean_2, Test_time_2 = GSSA_country(2,10)\n",
    "Time_3, stage1_3, Max_3, Mean_3, Test_time_3 = GSSA_country(2,11)\n",
    "Time_4, stage1_4, Max_4, Mean_4, Test_time_4 = GSSA_country(2,12)\n",
    "\n",
    "# Save the results\n",
    "Result_2_1 = pd.DataFrame({\"Polynomial Degree\":[i for i in range(1,6)],\n",
    "\"Mean Error\":Mean_1,\n",
    "\"Max Error\":Max_1,\n",
    "\"Total Time\":[Time_1[i]+stage1_1+Test_time_1 for i in range(5)],\n",
    "\"Method\": \"RLS-TSVD Q(1)\"\n",
    "})\n",
    "Result_2_2 = pd.DataFrame({\"Polynomial Degree\":[i for i in range(1,6)],\n",
    "\"Mean Error\":Mean_2,\n",
    "\"Max Error\":Max_2,\n",
    "\"Total Time\":[Time_2[i]+stage1_2+Test_time_2 for i in range(5)],\n",
    "\"Method\": \"RLS-TSVD Q(10)\"\n",
    "})\n",
    "Result_2_3 = pd.DataFrame({\"Polynomial Degree\":[i for i in range(1,6)],\n",
    "\"Mean Error\":Mean_3,\n",
    "\"Max Error\":Max_3,\n",
    "\"Total Time\":[Time_3[i]+stage1_3+Test_time_3 for i in range(5)],\n",
    "\"Method\": \"RLS-TSVD M(1)\"\n",
    "})\n",
    "Result_2_4 = pd.DataFrame({\"Polynomial Degree\":[i for i in range(1,6)],\n",
    "\"Mean Error\":Mean_4,\n",
    "\"Max Error\":Max_4,\n",
    "\"Total Time\":[Time_4[i]+stage1_4+Test_time_4 for i in range(5)],\n",
    "\"Method\": \"RLS-TSVD M(2)\"\n",
    "})\n",
    "\n",
    "Final_2 = pd.concat([Result_2_1, Result_2_2, Result_2_3, Result_2_4])"
   ]
  },
  {
   "cell_type": "code",
   "execution_count": null,
   "metadata": {},
   "outputs": [],
   "source": []
  },
  {
   "source": [
    "A cache file so we dont need to run another 2 to 3 hours:"
   ],
   "cell_type": "markdown",
   "metadata": {}
  },
  {
   "cell_type": "code",
   "execution_count": 2,
   "metadata": {},
   "outputs": [],
   "source": [
    "test = pd.read_csv(\"Country_showcase.csv\")"
   ]
  },
  {
   "cell_type": "code",
   "execution_count": null,
   "metadata": {},
   "outputs": [],
   "source": [
    "# make figures here"
   ]
  },
  {
   "cell_type": "code",
   "execution_count": null,
   "metadata": {},
   "outputs": [],
   "source": []
  },
  {
   "source": [
    "Simulation part:"
   ],
   "cell_type": "markdown",
   "metadata": {}
  },
  {
   "cell_type": "code",
   "execution_count": 103,
   "metadata": {},
   "outputs": [],
   "source": [
    "#####User defined parameters\n",
    "N = 2\n",
    "T = 2000\n",
    "#####Model parameters\n",
    "gam = 1\n",
    "alpha = 0.36\n",
    "beta = 0.99\n",
    "delta = 0.025\n",
    "rho = 0.95\n",
    "sigma = 0.01\n",
    "\n",
    "######################################\n",
    "####Variance-covariance matrix\n",
    "vcv = sigma**(2)*(np.eye(N)+ np.ones(N))\n",
    "####Normalising constant\n",
    "A = (1-beta+beta*delta)/alpha/beta\n",
    "####welfare weight\n",
    "tau = 1\n",
    "######################################\n",
    "#The above normalization ensures that steady state\n",
    "k = np.ones((T+1,N))\n",
    "a = np.ones((1,N))\n",
    "#####################################\n",
    "#construct productivity levels\n",
    "a20200 = Productivity(T,N,a,sigma,rho)"
   ]
  },
  {
   "source": [
    "GSSA parameters"
   ],
   "cell_type": "markdown",
   "metadata": {}
  },
  {
   "cell_type": "code",
   "execution_count": 104,
   "metadata": {},
   "outputs": [],
   "source": [
    "#checking part with matlab\n",
    "a20200 = scipy.io.loadmat(\"aT20200N10.mat\").get(\"a20200\")\n",
    "a20200 = a20200[:T, :N]"
   ]
  },
  {
   "cell_type": "code",
   "execution_count": 105,
   "metadata": {},
   "outputs": [],
   "source": [
    "#Compute a first-degree polynomial solution using the one-node Monte Carlo integration method (this #solution will be used as an initial guess for the other cases) \n",
    "\n",
    "start = time.time()\n",
    "kdamp = 0.1\n",
    "dif_1d = 1e+10\n",
    "# Initialize the first-degree capital policy functions of N countries \n",
    "bk_1d= np.vstack((np.zeros((1,N)), np.diag(0.9*np.ones(N)),np.diag(0.1*np.ones(N))))\n",
    "# Initialize the capital series\n",
    "k_old = np.ones((T+1,N))\n",
    "#Consturct containers\n",
    "Y = np.empty((T-1,N))\n",
    "# The main iterative cycle of GSSA\n",
    "while dif_1d > 1e-4*kdamp:\n",
    "    #construct starting numpy for value storages\n",
    "    x = np.empty((T,2*N+1))\n",
    "    for i in range(T):\n",
    "        x[i]= np.hstack((1,k[i], a20200[i]))\n",
    "        k[i+1]= np.hstack((1,k[i], a20200[i]))@bk_1d\n",
    "        #Compute consumption series \n",
    "    C = (A*k[:T]**alpha*a20200[:T]-k[1:T+1]+(1-delta)*k[:T])@np.ones((N,1))\n",
    "    #Individual consumption is the same for all countries\n",
    "    c = C@np.ones((1,N))/N\n",
    "\n",
    "    #Evaluate the percentage (unit-free) difference between the series from the previous and current iterations\n",
    "    dif_1d = np.mean(abs(1-k/k_old))\n",
    "    #Monte Carlo realizations of the right side of the Euler equation\n",
    "    \n",
    "    for i in range(N):\n",
    "        Y[:T-1,i]= beta*c[1:T,i]**(-gam)/c[:T-1,i]**(-gam)*(1-delta+alpha*A*k[1:T,i]**(alpha-1)*a20200[1:T,i])*k[1:T,i]\n",
    "\n",
    "    #Compute and update the coefficients of the capital policy functions\n",
    "    bk_hat_1d = linalg.inv(x[:T-1].conj().T@x[:T-1])@x[:T-1].conj().T@Y[:T-1]\n",
    "    bk_1d = kdamp*bk_hat_1d+(1-kdamp)*bk_1d\n",
    "    k_old = k.copy()\n",
    "end = time.time()\n",
    "Ncountry_GSSA_1stage = end-start"
   ]
  },
  {
   "source": [
    "Stage 2:"
   ],
   "cell_type": "markdown",
   "metadata": {}
  },
  {
   "cell_type": "code",
   "execution_count": 106,
   "metadata": {},
   "outputs": [],
   "source": [
    "#Compute polynomial solutions of the degrees from one to D_max using one of the following integration methods: Monte Carlo, Gauss-Hermite product and monomial non-product methods\n",
    "\n",
    "\n",
    "#Damping parameter for (fixed-point) iteration on the coefficients of the capital policy functions\n",
    "kdamp     = 0.1\n",
    "#Set the initial difference between the series from two iterations in the convergence criterion   \n",
    "dif_GSSA_D  = 1e+10\n",
    "\n",
    "#The matrix of the polynomial coefficients\n",
    "D_max = 5\n",
    "\n",
    "#construct container\n",
    "npol = np.empty((1,D_max))\n",
    "\n",
    "for i in range(1, D_max+1):\n",
    "    npol[0,i-1]= Ord_Polynomial_N(np.hstack((k[0],a20200[0]))[np.newaxis,], i).shape[1]\n",
    "\n",
    "#Choose an integration method here\n",
    "###\n",
    "IM = 12\n",
    "\n",
    "##################################\n",
    "if ((IM>=1) and (IM<=10)):\n",
    "    n_nodes, epsi_nodes, weight_nodes = GH_Quadrature(IM, N, vcv)\n",
    "elif IM == 11:\n",
    "    n_nodes, epsi_nodes, weight_nodes = Monomials_1(N,vcv)\n",
    "elif IM == 12:\n",
    "    n_nodes, epsi_nodes, weight_nodes = Monomials_2(N,vcv)\n",
    "\n",
    "#14. Choose a regression method and specifications\n",
    "#####only 6 methods avaliable here !!!!####\n",
    "\n",
    "RM    = 5       \n",
    "normalize = 1\n",
    "penalty = 7 \n",
    "\n",
    "#Compute the polynomial solutions of the degrees from one to D_max\n",
    "\n",
    "#Construct empty container for results\n",
    "BK = []\n",
    "Time = []"
   ]
  },
  {
   "cell_type": "code",
   "execution_count": 93,
   "metadata": {},
   "outputs": [
    {
     "output_type": "execute_result",
     "data": {
      "text/plain": [
       "True"
      ]
     },
     "metadata": {},
     "execution_count": 93
    }
   ],
   "source": [
    "np.isfinite(Y[0:T-1,:]).all()"
   ]
  },
  {
   "cell_type": "code",
   "execution_count": 91,
   "metadata": {},
   "outputs": [
    {
     "output_type": "error",
     "ename": "ValueError",
     "evalue": "array must not contain infs or NaNs",
     "traceback": [
      "\u001b[1;31m---------------------------------------------------------------------------\u001b[0m",
      "\u001b[1;31mValueError\u001b[0m                                Traceback (most recent call last)",
      "\u001b[1;32m<ipython-input-91-aa2a19369e35>\u001b[0m in \u001b[0;36m<module>\u001b[1;34m\u001b[0m\n\u001b[1;32m----> 1\u001b[1;33m \u001b[0mbk_hat_D\u001b[0m \u001b[1;33m=\u001b[0m \u001b[0mNum_Stab_Approx\u001b[0m\u001b[1;33m(\u001b[0m\u001b[0mX\u001b[0m\u001b[1;33m[\u001b[0m\u001b[1;36m0\u001b[0m\u001b[1;33m:\u001b[0m\u001b[0mT\u001b[0m\u001b[1;33m-\u001b[0m\u001b[1;36m1\u001b[0m\u001b[1;33m,\u001b[0m\u001b[1;33m:\u001b[0m\u001b[1;33m]\u001b[0m\u001b[1;33m,\u001b[0m \u001b[0mY\u001b[0m\u001b[1;33m[\u001b[0m\u001b[1;36m0\u001b[0m\u001b[1;33m:\u001b[0m\u001b[0mT\u001b[0m\u001b[1;33m-\u001b[0m\u001b[1;36m1\u001b[0m\u001b[1;33m,\u001b[0m\u001b[1;33m:\u001b[0m\u001b[1;33m]\u001b[0m\u001b[1;33m,\u001b[0m \u001b[0mRM\u001b[0m\u001b[1;33m,\u001b[0m \u001b[0mpenalty\u001b[0m\u001b[1;33m,\u001b[0m \u001b[0mnormalize\u001b[0m\u001b[1;33m)\u001b[0m\u001b[1;33m\u001b[0m\u001b[1;33m\u001b[0m\u001b[0m\n\u001b[0m",
      "\u001b[1;32mc:\\Users\\Viktor Cheng\\Documents\\GitHub\\OSE\\GSS\\GSSA countries python\\tools\\countries.py\u001b[0m in \u001b[0;36mNum_Stab_Approx\u001b[1;34m(X, Y, RM, penalty, normalize)\u001b[0m\n\u001b[0;32m    360\u001b[0m     \u001b[1;31m# RLS-TSVD\u001b[0m\u001b[1;33m\u001b[0m\u001b[1;33m\u001b[0m\u001b[1;33m\u001b[0m\u001b[0m\n\u001b[0;32m    361\u001b[0m     \u001b[1;32melif\u001b[0m \u001b[0mRM\u001b[0m \u001b[1;33m==\u001b[0m \u001b[1;36m5\u001b[0m\u001b[1;33m:\u001b[0m\u001b[1;33m\u001b[0m\u001b[1;33m\u001b[0m\u001b[0m\n\u001b[1;32m--> 362\u001b[1;33m         \u001b[0mU\u001b[0m\u001b[1;33m,\u001b[0m \u001b[0mS\u001b[0m\u001b[1;33m,\u001b[0m \u001b[0mVh\u001b[0m \u001b[1;33m=\u001b[0m \u001b[0mlinalg\u001b[0m\u001b[1;33m.\u001b[0m\u001b[0msvd\u001b[0m\u001b[1;33m(\u001b[0m\u001b[0mX1\u001b[0m\u001b[1;33m,\u001b[0m \u001b[0mfull_matrices\u001b[0m\u001b[1;33m=\u001b[0m\u001b[1;32mFalse\u001b[0m\u001b[1;33m)\u001b[0m\u001b[1;33m\u001b[0m\u001b[1;33m\u001b[0m\u001b[0m\n\u001b[0m\u001b[0;32m    363\u001b[0m         \u001b[0mV\u001b[0m \u001b[1;33m=\u001b[0m \u001b[0mVh\u001b[0m\u001b[1;33m.\u001b[0m\u001b[0mT\u001b[0m\u001b[1;33m\u001b[0m\u001b[1;33m\u001b[0m\u001b[0m\n\u001b[0;32m    364\u001b[0m         \u001b[0mr\u001b[0m \u001b[1;33m=\u001b[0m \u001b[0mnp\u001b[0m\u001b[1;33m.\u001b[0m\u001b[0mcount_nonzero\u001b[0m\u001b[1;33m(\u001b[0m\u001b[0mnp\u001b[0m\u001b[1;33m.\u001b[0m\u001b[0mdivide\u001b[0m\u001b[1;33m(\u001b[0m\u001b[0mnp\u001b[0m\u001b[1;33m.\u001b[0m\u001b[0mdiag\u001b[0m\u001b[1;33m(\u001b[0m\u001b[0mS\u001b[0m\u001b[1;33m)\u001b[0m\u001b[1;33m.\u001b[0m\u001b[0mmax\u001b[0m\u001b[1;33m(\u001b[0m\u001b[1;33m)\u001b[0m\u001b[1;33m,\u001b[0m \u001b[0mnp\u001b[0m\u001b[1;33m.\u001b[0m\u001b[0mdiag\u001b[0m\u001b[1;33m(\u001b[0m\u001b[0mS\u001b[0m\u001b[1;33m)\u001b[0m\u001b[1;33m)\u001b[0m\u001b[1;33m<=\u001b[0m \u001b[1;36m10\u001b[0m\u001b[1;33m**\u001b[0m\u001b[1;33m(\u001b[0m\u001b[0mpenalty\u001b[0m\u001b[1;33m)\u001b[0m\u001b[1;33m)\u001b[0m\u001b[1;33m\u001b[0m\u001b[1;33m\u001b[0m\u001b[0m\n",
      "\u001b[1;32mC:\\Anaconda3\\lib\\site-packages\\scipy\\linalg\\decomp_svd.py\u001b[0m in \u001b[0;36msvd\u001b[1;34m(a, full_matrices, compute_uv, overwrite_a, check_finite, lapack_driver)\u001b[0m\n\u001b[0;32m    104\u001b[0m \u001b[1;33m\u001b[0m\u001b[0m\n\u001b[0;32m    105\u001b[0m     \"\"\"\n\u001b[1;32m--> 106\u001b[1;33m     \u001b[0ma1\u001b[0m \u001b[1;33m=\u001b[0m \u001b[0m_asarray_validated\u001b[0m\u001b[1;33m(\u001b[0m\u001b[0ma\u001b[0m\u001b[1;33m,\u001b[0m \u001b[0mcheck_finite\u001b[0m\u001b[1;33m=\u001b[0m\u001b[0mcheck_finite\u001b[0m\u001b[1;33m)\u001b[0m\u001b[1;33m\u001b[0m\u001b[1;33m\u001b[0m\u001b[0m\n\u001b[0m\u001b[0;32m    107\u001b[0m     \u001b[1;32mif\u001b[0m \u001b[0mlen\u001b[0m\u001b[1;33m(\u001b[0m\u001b[0ma1\u001b[0m\u001b[1;33m.\u001b[0m\u001b[0mshape\u001b[0m\u001b[1;33m)\u001b[0m \u001b[1;33m!=\u001b[0m \u001b[1;36m2\u001b[0m\u001b[1;33m:\u001b[0m\u001b[1;33m\u001b[0m\u001b[1;33m\u001b[0m\u001b[0m\n\u001b[0;32m    108\u001b[0m         \u001b[1;32mraise\u001b[0m \u001b[0mValueError\u001b[0m\u001b[1;33m(\u001b[0m\u001b[1;34m'expected matrix'\u001b[0m\u001b[1;33m)\u001b[0m\u001b[1;33m\u001b[0m\u001b[1;33m\u001b[0m\u001b[0m\n",
      "\u001b[1;32mC:\\Anaconda3\\lib\\site-packages\\scipy\\_lib\\_util.py\u001b[0m in \u001b[0;36m_asarray_validated\u001b[1;34m(a, check_finite, sparse_ok, objects_ok, mask_ok, as_inexact)\u001b[0m\n\u001b[0;32m    260\u001b[0m             \u001b[1;32mraise\u001b[0m \u001b[0mValueError\u001b[0m\u001b[1;33m(\u001b[0m\u001b[1;34m'masked arrays are not supported'\u001b[0m\u001b[1;33m)\u001b[0m\u001b[1;33m\u001b[0m\u001b[1;33m\u001b[0m\u001b[0m\n\u001b[0;32m    261\u001b[0m     \u001b[0mtoarray\u001b[0m \u001b[1;33m=\u001b[0m \u001b[0mnp\u001b[0m\u001b[1;33m.\u001b[0m\u001b[0masarray_chkfinite\u001b[0m \u001b[1;32mif\u001b[0m \u001b[0mcheck_finite\u001b[0m \u001b[1;32melse\u001b[0m \u001b[0mnp\u001b[0m\u001b[1;33m.\u001b[0m\u001b[0masarray\u001b[0m\u001b[1;33m\u001b[0m\u001b[1;33m\u001b[0m\u001b[0m\n\u001b[1;32m--> 262\u001b[1;33m     \u001b[0ma\u001b[0m \u001b[1;33m=\u001b[0m \u001b[0mtoarray\u001b[0m\u001b[1;33m(\u001b[0m\u001b[0ma\u001b[0m\u001b[1;33m)\u001b[0m\u001b[1;33m\u001b[0m\u001b[1;33m\u001b[0m\u001b[0m\n\u001b[0m\u001b[0;32m    263\u001b[0m     \u001b[1;32mif\u001b[0m \u001b[1;32mnot\u001b[0m \u001b[0mobjects_ok\u001b[0m\u001b[1;33m:\u001b[0m\u001b[1;33m\u001b[0m\u001b[1;33m\u001b[0m\u001b[0m\n\u001b[0;32m    264\u001b[0m         \u001b[1;32mif\u001b[0m \u001b[0ma\u001b[0m\u001b[1;33m.\u001b[0m\u001b[0mdtype\u001b[0m \u001b[1;32mis\u001b[0m \u001b[0mnp\u001b[0m\u001b[1;33m.\u001b[0m\u001b[0mdtype\u001b[0m\u001b[1;33m(\u001b[0m\u001b[1;34m'O'\u001b[0m\u001b[1;33m)\u001b[0m\u001b[1;33m:\u001b[0m\u001b[1;33m\u001b[0m\u001b[1;33m\u001b[0m\u001b[0m\n",
      "\u001b[1;32mC:\\Anaconda3\\lib\\site-packages\\numpy\\lib\\function_base.py\u001b[0m in \u001b[0;36masarray_chkfinite\u001b[1;34m(a, dtype, order)\u001b[0m\n\u001b[0;32m    484\u001b[0m     \u001b[1;32mif\u001b[0m \u001b[0ma\u001b[0m\u001b[1;33m.\u001b[0m\u001b[0mdtype\u001b[0m\u001b[1;33m.\u001b[0m\u001b[0mchar\u001b[0m \u001b[1;32min\u001b[0m \u001b[0mtypecodes\u001b[0m\u001b[1;33m[\u001b[0m\u001b[1;34m'AllFloat'\u001b[0m\u001b[1;33m]\u001b[0m \u001b[1;32mand\u001b[0m \u001b[1;32mnot\u001b[0m \u001b[0mnp\u001b[0m\u001b[1;33m.\u001b[0m\u001b[0misfinite\u001b[0m\u001b[1;33m(\u001b[0m\u001b[0ma\u001b[0m\u001b[1;33m)\u001b[0m\u001b[1;33m.\u001b[0m\u001b[0mall\u001b[0m\u001b[1;33m(\u001b[0m\u001b[1;33m)\u001b[0m\u001b[1;33m:\u001b[0m\u001b[1;33m\u001b[0m\u001b[1;33m\u001b[0m\u001b[0m\n\u001b[0;32m    485\u001b[0m         raise ValueError(\n\u001b[1;32m--> 486\u001b[1;33m             \"array must not contain infs or NaNs\")\n\u001b[0m\u001b[0;32m    487\u001b[0m     \u001b[1;32mreturn\u001b[0m \u001b[0ma\u001b[0m\u001b[1;33m\u001b[0m\u001b[1;33m\u001b[0m\u001b[0m\n\u001b[0;32m    488\u001b[0m \u001b[1;33m\u001b[0m\u001b[0m\n",
      "\u001b[1;31mValueError\u001b[0m: array must not contain infs or NaNs"
     ]
    }
   ],
   "source": [
    " bk_hat_D = Num_Stab_Approx(X[0:T-1,:], Y[0:T-1,:], RM, penalty, normalize)"
   ]
  },
  {
   "cell_type": "code",
   "execution_count": 20,
   "metadata": {},
   "outputs": [
    {
     "output_type": "execute_result",
     "data": {
      "text/plain": [
       "array([[4.50268587, 0.56235494],\n",
       "       [4.43754106, 0.56958427],\n",
       "       [4.41001929, 0.57240851],\n",
       "       ...,\n",
       "       [4.52066931, 0.50245367],\n",
       "       [4.47100493, 0.50938331],\n",
       "       [4.46887071, 0.51124531]])"
      ]
     },
     "metadata": {},
     "execution_count": 20
    }
   ],
   "source": [
    "Y[:T-1,:]"
   ]
  },
  {
   "cell_type": "code",
   "execution_count": 107,
   "metadata": {},
   "outputs": [],
   "source": [
    "D = 2\n",
    "start = time.time()\n",
    "X = Ord_Polynomial_N(np.hstack((k[:T,:],a20200[:T,:])),D)\n",
    "bk_D = Num_Stab_Approx(X[:T-1,:],Y[:T-1,:], RM, penalty, normalize)\n",
    "k_old = np.ones((T+1,N))\n",
    "dif_GSSA_D  = 1e+10"
   ]
  },
  {
   "cell_type": "code",
   "execution_count": 111,
   "metadata": {},
   "outputs": [],
   "source": [
    "Y = np.zeros((T,N))\n",
    "for i in range(1, n_nodes+1):\n",
    "    # Compute the next-period productivity levels for each integration node using condition (C3) \n",
    "    # in JMM (2011)\n",
    "    a1 = a20200[0:T,:]**rho*np.exp(np.ones((T,1))@epsi_nodes[i-1,:][np.newaxis,])\n",
    "\n",
    "    # Compute capital of period t+2 (chosen at t+1) using the capital policy functions\n",
    "    k2 = Ord_Polynomial_N(np.hstack((k1, a1)),D)@bk_D\n",
    "\n",
    "        # C is computed by summing up individual consumption, which in turn, is from the individual budget constraints\n",
    "    C1 = (A*k1**alpha*a1-k2+(1-delta)*k1)@np.ones((N,1))\n",
    "\n",
    "        # Compute next-period individual consumption for N countries \n",
    "    c1 = C1@np.ones((1,N))/N\n",
    "    for i in range(1, N+1):\n",
    "        Y[0:T,i-1][:,np.newaxis]= Y[0:T,i-1][:,np.newaxis]+ weight_nodes[i-1, 0]*beta*c1[0:T, i-1][:,np.newaxis]**(-gam)/c[0:T,i-1][:,np.newaxis]**(-gam)*(1-delta+alpha*A*k1[0:T,i-1][:,np.newaxis]**(alpha-1)*a1[0:T,i-1][:,np.newaxis])*k1[0:T, i-1][:,np.newaxis]"
   ]
  },
  {
   "cell_type": "code",
   "execution_count": 112,
   "metadata": {},
   "outputs": [],
   "source": [
    "\n",
    "for i in range(1, T+1):\n",
    "    X[i-1,:] = Ord_Polynomial_N(np.hstack((k[i-1,:], a20200[i-1, :]))[np.newaxis,], D)\n",
    "    k[i,] = X[i-1,]@bk_D\n",
    "# N current capital stocks  \n",
    "k0 = k[0:T,]\n",
    "# N current productivity levels \n",
    "a0 = a20200[0:T,]\n",
    "# N next-period capital stocks\n",
    "k1 = k[1:T+1,]\n",
    "# Aggregate consumption is computed by summing up individual consumption, which in turn, is found from the individual budget constraints\n",
    "C = (A*k0**alpha*a0 - k1+ (1-delta)*k0)@np.ones((N,1))\n",
    "\n",
    "# Individual consumption is the same for all countries, check JMM (2011)\n",
    "c = C@np.ones((1,N))/N\n",
    "#15.2.3 Approximate the conditional expectations for t=1,...T-1 using the integration method chosen\n",
    "\n",
    "#15.2.3.1 The one-node Monte Carlo integration method approximates the \n",
    "#values of the conditional expectations, Y, in the Euler equation with\n",
    " # the realization of the integrand in the next period\n",
    "if IM == 0:\n",
    "    for i in range(1, N+1):\n",
    "        Y[0:T-1,i-1][:,np.newaxis] = beta*c[1:T,i-1][:,np.newaxis]**(-gam)/c[0:T-1, i-1][:,np.newaxis]**(-gam)*(1-delta+alpha*A*k[1:T,i-1][:,np.newaxis]**(alpha-1)*a20200[1:T,i-1][:,np.newaxis])*k[1:T,i-1][:,np.newaxis]\n",
    "\n",
    "#15.2.3.2 Deterministic integration methods approximate the values of \n",
    "# conditional expectations, Y, in the Euler equation as a weighted average \n",
    "# of the values of the integrand in the given nodes with the given weights \n",
    "else:\n",
    "    Y = np.zeros((T,N))\n",
    "    for i in range(1, n_nodes+1):\n",
    "        # Compute the next-period productivity levels for each integration node using condition (C3) \n",
    "        # in JMM (2011)\n",
    "        a1 = a20200[0:T,:]**rho*np.exp(np.ones((T,1))@epsi_nodes[i-1,:][np.newaxis,])\n",
    "\n",
    "        # Compute capital of period t+2 (chosen at t+1) using the capital policy functions\n",
    "        k2 = Ord_Polynomial_N(np.hstack((k1, a1)),D)@bk_D\n",
    "\n",
    "        # C is computed by summing up individual consumption, which in turn, is from the individual budget constraints\n",
    "        C1 = (A*k1**alpha*a1-k2+(1-delta)*k1)@np.ones((N,1))\n",
    "\n",
    "        # Compute next-period individual consumption for N countries \n",
    "        c1 = C1@np.ones((1,N))/N\n",
    "        for i in range(1, N+1):\n",
    "            Y[0:T,i-1][:,np.newaxis]= Y[0:T,i-1][:,np.newaxis]+ weight_nodes[i-1, 0]*beta*c1[0:T, i-1][:,np.newaxis]**(-gam)/c[0:T,i-1][:,np.newaxis]**(-gam)*(1-delta+alpha*A*k1[0:T,i-1][:,np.newaxis]**(alpha-1)*a1[0:T,i-1][:,np.newaxis])*k1[0:T, i-1][:,np.newaxis]\n",
    "    \n",
    "    # 15.2.4 Evaluate the percentage (unit-free) difference between the \n",
    "    # capital series from the previous and current iterations\n",
    "    #-------------------------------------------------------\n",
    "    dif_GSSA_D = np.mean(abs(1-k/k_old))\n",
    "\n",
    "    # 15.2.5 Compute and update the coefficients of the capital policy \n",
    "    # functions \n",
    "    # ----------------------------------------------------------------\n",
    "    # Compute new coefficients of the capital \n",
    "    # policy functions using the chosen \n",
    "    # approximation method\n",
    "\n",
    "    bk_hat_D = Num_Stab_Approx(X[0:T-1,:], Y[0:T-1,:], RM, penalty, normalize)\n",
    "    bk_D = kdamp*bk_hat_D+ (1-kdamp)*bk_D\n",
    "\n",
    "    #15.2.6 Store the capital series \n",
    "    #--------------------------------\n",
    "    k_old = k.copy()"
   ]
  },
  {
   "cell_type": "code",
   "execution_count": 9,
   "metadata": {},
   "outputs": [
    {
     "output_type": "error",
     "ename": "ValueError",
     "evalue": "array must not contain infs or NaNs",
     "traceback": [
      "\u001b[1;31m---------------------------------------------------------------------------\u001b[0m",
      "\u001b[1;31mValueError\u001b[0m                                Traceback (most recent call last)",
      "\u001b[1;32m<ipython-input-9-f2131b584780>\u001b[0m in \u001b[0;36m<module>\u001b[1;34m\u001b[0m\n\u001b[0;32m     67\u001b[0m     \u001b[1;31m# policy functions using the chosen\u001b[0m\u001b[1;33m\u001b[0m\u001b[1;33m\u001b[0m\u001b[1;33m\u001b[0m\u001b[0m\n\u001b[0;32m     68\u001b[0m     \u001b[1;31m# approximation method\u001b[0m\u001b[1;33m\u001b[0m\u001b[1;33m\u001b[0m\u001b[1;33m\u001b[0m\u001b[0m\n\u001b[1;32m---> 69\u001b[1;33m     \u001b[0mbk_hat_D\u001b[0m \u001b[1;33m=\u001b[0m \u001b[0mNum_Stab_Approx\u001b[0m\u001b[1;33m(\u001b[0m\u001b[0mX\u001b[0m\u001b[1;33m[\u001b[0m\u001b[1;36m0\u001b[0m\u001b[1;33m:\u001b[0m\u001b[0mT\u001b[0m\u001b[1;33m-\u001b[0m\u001b[1;36m1\u001b[0m\u001b[1;33m,\u001b[0m\u001b[1;33m:\u001b[0m\u001b[1;33m]\u001b[0m\u001b[1;33m,\u001b[0m \u001b[0mY\u001b[0m\u001b[1;33m[\u001b[0m\u001b[1;36m0\u001b[0m\u001b[1;33m:\u001b[0m\u001b[0mT\u001b[0m\u001b[1;33m-\u001b[0m\u001b[1;36m1\u001b[0m\u001b[1;33m,\u001b[0m\u001b[1;33m:\u001b[0m\u001b[1;33m]\u001b[0m\u001b[1;33m,\u001b[0m \u001b[0mRM\u001b[0m\u001b[1;33m,\u001b[0m \u001b[0mpenalty\u001b[0m\u001b[1;33m,\u001b[0m \u001b[0mnormalize\u001b[0m\u001b[1;33m)\u001b[0m\u001b[1;33m\u001b[0m\u001b[1;33m\u001b[0m\u001b[0m\n\u001b[0m\u001b[0;32m     70\u001b[0m     \u001b[0mbk_D\u001b[0m \u001b[1;33m=\u001b[0m \u001b[0mkdamp\u001b[0m\u001b[1;33m*\u001b[0m\u001b[0mbk_hat_D\u001b[0m\u001b[1;33m+\u001b[0m \u001b[1;33m(\u001b[0m\u001b[1;36m1\u001b[0m\u001b[1;33m-\u001b[0m\u001b[0mkdamp\u001b[0m\u001b[1;33m)\u001b[0m\u001b[1;33m*\u001b[0m\u001b[0mbk_D\u001b[0m\u001b[1;33m\u001b[0m\u001b[1;33m\u001b[0m\u001b[0m\n\u001b[0;32m     71\u001b[0m \u001b[1;33m\u001b[0m\u001b[0m\n",
      "\u001b[1;32mc:\\Users\\Viktor Cheng\\Documents\\GitHub\\OSE\\GSS\\GSSA countries python\\tools\\countries.py\u001b[0m in \u001b[0;36mNum_Stab_Approx\u001b[1;34m(X, Y, RM, penalty, normalize)\u001b[0m\n\u001b[0;32m    360\u001b[0m     \u001b[1;31m# RLS-TSVD\u001b[0m\u001b[1;33m\u001b[0m\u001b[1;33m\u001b[0m\u001b[1;33m\u001b[0m\u001b[0m\n\u001b[0;32m    361\u001b[0m     \u001b[1;32melif\u001b[0m \u001b[0mRM\u001b[0m \u001b[1;33m==\u001b[0m \u001b[1;36m5\u001b[0m\u001b[1;33m:\u001b[0m\u001b[1;33m\u001b[0m\u001b[1;33m\u001b[0m\u001b[0m\n\u001b[1;32m--> 362\u001b[1;33m         \u001b[0mU\u001b[0m\u001b[1;33m,\u001b[0m \u001b[0mS\u001b[0m\u001b[1;33m,\u001b[0m \u001b[0mVh\u001b[0m \u001b[1;33m=\u001b[0m \u001b[0mlinalg\u001b[0m\u001b[1;33m.\u001b[0m\u001b[0msvd\u001b[0m\u001b[1;33m(\u001b[0m\u001b[0mX1\u001b[0m\u001b[1;33m,\u001b[0m \u001b[0mfull_matrices\u001b[0m\u001b[1;33m=\u001b[0m\u001b[1;32mFalse\u001b[0m\u001b[1;33m)\u001b[0m\u001b[1;33m\u001b[0m\u001b[1;33m\u001b[0m\u001b[0m\n\u001b[0m\u001b[0;32m    363\u001b[0m         \u001b[0mV\u001b[0m \u001b[1;33m=\u001b[0m \u001b[0mVh\u001b[0m\u001b[1;33m.\u001b[0m\u001b[0mT\u001b[0m\u001b[1;33m\u001b[0m\u001b[1;33m\u001b[0m\u001b[0m\n\u001b[0;32m    364\u001b[0m         \u001b[0mr\u001b[0m \u001b[1;33m=\u001b[0m \u001b[0mnp\u001b[0m\u001b[1;33m.\u001b[0m\u001b[0mcount_nonzero\u001b[0m\u001b[1;33m(\u001b[0m\u001b[0mnp\u001b[0m\u001b[1;33m.\u001b[0m\u001b[0mdivide\u001b[0m\u001b[1;33m(\u001b[0m\u001b[0mnp\u001b[0m\u001b[1;33m.\u001b[0m\u001b[0mdiag\u001b[0m\u001b[1;33m(\u001b[0m\u001b[0mS\u001b[0m\u001b[1;33m)\u001b[0m\u001b[1;33m.\u001b[0m\u001b[0mmax\u001b[0m\u001b[1;33m(\u001b[0m\u001b[1;33m)\u001b[0m\u001b[1;33m,\u001b[0m \u001b[0mnp\u001b[0m\u001b[1;33m.\u001b[0m\u001b[0mdiag\u001b[0m\u001b[1;33m(\u001b[0m\u001b[0mS\u001b[0m\u001b[1;33m)\u001b[0m\u001b[1;33m)\u001b[0m\u001b[1;33m<=\u001b[0m \u001b[1;36m10\u001b[0m\u001b[1;33m**\u001b[0m\u001b[1;33m(\u001b[0m\u001b[0mpenalty\u001b[0m\u001b[1;33m)\u001b[0m\u001b[1;33m)\u001b[0m\u001b[1;33m\u001b[0m\u001b[1;33m\u001b[0m\u001b[0m\n",
      "\u001b[1;32mC:\\Anaconda3\\lib\\site-packages\\scipy\\linalg\\decomp_svd.py\u001b[0m in \u001b[0;36msvd\u001b[1;34m(a, full_matrices, compute_uv, overwrite_a, check_finite, lapack_driver)\u001b[0m\n\u001b[0;32m    104\u001b[0m \u001b[1;33m\u001b[0m\u001b[0m\n\u001b[0;32m    105\u001b[0m     \"\"\"\n\u001b[1;32m--> 106\u001b[1;33m     \u001b[0ma1\u001b[0m \u001b[1;33m=\u001b[0m \u001b[0m_asarray_validated\u001b[0m\u001b[1;33m(\u001b[0m\u001b[0ma\u001b[0m\u001b[1;33m,\u001b[0m \u001b[0mcheck_finite\u001b[0m\u001b[1;33m=\u001b[0m\u001b[0mcheck_finite\u001b[0m\u001b[1;33m)\u001b[0m\u001b[1;33m\u001b[0m\u001b[1;33m\u001b[0m\u001b[0m\n\u001b[0m\u001b[0;32m    107\u001b[0m     \u001b[1;32mif\u001b[0m \u001b[0mlen\u001b[0m\u001b[1;33m(\u001b[0m\u001b[0ma1\u001b[0m\u001b[1;33m.\u001b[0m\u001b[0mshape\u001b[0m\u001b[1;33m)\u001b[0m \u001b[1;33m!=\u001b[0m \u001b[1;36m2\u001b[0m\u001b[1;33m:\u001b[0m\u001b[1;33m\u001b[0m\u001b[1;33m\u001b[0m\u001b[0m\n\u001b[0;32m    108\u001b[0m         \u001b[1;32mraise\u001b[0m \u001b[0mValueError\u001b[0m\u001b[1;33m(\u001b[0m\u001b[1;34m'expected matrix'\u001b[0m\u001b[1;33m)\u001b[0m\u001b[1;33m\u001b[0m\u001b[1;33m\u001b[0m\u001b[0m\n",
      "\u001b[1;32mC:\\Anaconda3\\lib\\site-packages\\scipy\\_lib\\_util.py\u001b[0m in \u001b[0;36m_asarray_validated\u001b[1;34m(a, check_finite, sparse_ok, objects_ok, mask_ok, as_inexact)\u001b[0m\n\u001b[0;32m    260\u001b[0m             \u001b[1;32mraise\u001b[0m \u001b[0mValueError\u001b[0m\u001b[1;33m(\u001b[0m\u001b[1;34m'masked arrays are not supported'\u001b[0m\u001b[1;33m)\u001b[0m\u001b[1;33m\u001b[0m\u001b[1;33m\u001b[0m\u001b[0m\n\u001b[0;32m    261\u001b[0m     \u001b[0mtoarray\u001b[0m \u001b[1;33m=\u001b[0m \u001b[0mnp\u001b[0m\u001b[1;33m.\u001b[0m\u001b[0masarray_chkfinite\u001b[0m \u001b[1;32mif\u001b[0m \u001b[0mcheck_finite\u001b[0m \u001b[1;32melse\u001b[0m \u001b[0mnp\u001b[0m\u001b[1;33m.\u001b[0m\u001b[0masarray\u001b[0m\u001b[1;33m\u001b[0m\u001b[1;33m\u001b[0m\u001b[0m\n\u001b[1;32m--> 262\u001b[1;33m     \u001b[0ma\u001b[0m \u001b[1;33m=\u001b[0m \u001b[0mtoarray\u001b[0m\u001b[1;33m(\u001b[0m\u001b[0ma\u001b[0m\u001b[1;33m)\u001b[0m\u001b[1;33m\u001b[0m\u001b[1;33m\u001b[0m\u001b[0m\n\u001b[0m\u001b[0;32m    263\u001b[0m     \u001b[1;32mif\u001b[0m \u001b[1;32mnot\u001b[0m \u001b[0mobjects_ok\u001b[0m\u001b[1;33m:\u001b[0m\u001b[1;33m\u001b[0m\u001b[1;33m\u001b[0m\u001b[0m\n\u001b[0;32m    264\u001b[0m         \u001b[1;32mif\u001b[0m \u001b[0ma\u001b[0m\u001b[1;33m.\u001b[0m\u001b[0mdtype\u001b[0m \u001b[1;32mis\u001b[0m \u001b[0mnp\u001b[0m\u001b[1;33m.\u001b[0m\u001b[0mdtype\u001b[0m\u001b[1;33m(\u001b[0m\u001b[1;34m'O'\u001b[0m\u001b[1;33m)\u001b[0m\u001b[1;33m:\u001b[0m\u001b[1;33m\u001b[0m\u001b[1;33m\u001b[0m\u001b[0m\n",
      "\u001b[1;32mC:\\Anaconda3\\lib\\site-packages\\numpy\\lib\\function_base.py\u001b[0m in \u001b[0;36masarray_chkfinite\u001b[1;34m(a, dtype, order)\u001b[0m\n\u001b[0;32m    484\u001b[0m     \u001b[1;32mif\u001b[0m \u001b[0ma\u001b[0m\u001b[1;33m.\u001b[0m\u001b[0mdtype\u001b[0m\u001b[1;33m.\u001b[0m\u001b[0mchar\u001b[0m \u001b[1;32min\u001b[0m \u001b[0mtypecodes\u001b[0m\u001b[1;33m[\u001b[0m\u001b[1;34m'AllFloat'\u001b[0m\u001b[1;33m]\u001b[0m \u001b[1;32mand\u001b[0m \u001b[1;32mnot\u001b[0m \u001b[0mnp\u001b[0m\u001b[1;33m.\u001b[0m\u001b[0misfinite\u001b[0m\u001b[1;33m(\u001b[0m\u001b[0ma\u001b[0m\u001b[1;33m)\u001b[0m\u001b[1;33m.\u001b[0m\u001b[0mall\u001b[0m\u001b[1;33m(\u001b[0m\u001b[1;33m)\u001b[0m\u001b[1;33m:\u001b[0m\u001b[1;33m\u001b[0m\u001b[1;33m\u001b[0m\u001b[0m\n\u001b[0;32m    485\u001b[0m         raise ValueError(\n\u001b[1;32m--> 486\u001b[1;33m             \"array must not contain infs or NaNs\")\n\u001b[0m\u001b[0;32m    487\u001b[0m     \u001b[1;32mreturn\u001b[0m \u001b[0ma\u001b[0m\u001b[1;33m\u001b[0m\u001b[1;33m\u001b[0m\u001b[0m\n\u001b[0;32m    488\u001b[0m \u001b[1;33m\u001b[0m\u001b[0m\n",
      "\u001b[1;31mValueError\u001b[0m: array must not contain infs or NaNs"
     ]
    }
   ],
   "source": [
    "D = 2\n",
    "start = time.time()\n",
    "X = Ord_Polynomial_N(np.hstack((k[:T,:],a20200[:T,:])),D)\n",
    "bk_D = Num_Stab_Approx(X[:T-1,:],Y[:T-1,:], RM, penalty, normalize)\n",
    "k_old = np.ones((T+1,N))\n",
    "dif_GSSA_D  = 1e+10\n",
    "while dif_GSSA_D > 1e-4/10**D*kdamp:\n",
    "    #Generate time series of capital\n",
    "    for i in range(1, T+1):\n",
    "        X[i-1,] = Ord_Polynomial_N(np.hstack((k[i-1,:], a20200[i-1, :]))[np.newaxis,], D)\n",
    "        k[i,] = X[i-1,][np.newaxis,]@bk_D\n",
    "\n",
    "    #15.2.2Compute consumption series of all countries:\n",
    "    ###################################################\n",
    "\n",
    "    # N current capital stocks  \n",
    "    k0 = k[0:T,]\n",
    "    # N current productivity levels \n",
    "    a0 = a20200[0:T,]\n",
    "    # N next-period capital stocks\n",
    "    k1 = k[1:T+1,]\n",
    "    # Aggregate consumption is computed by summing up individual consumption, which in turn, is found from the individual budget constraints\n",
    "    C = (A*k0**alpha*a0 - k1+ (1-delta)*k0)@np.ones((N,1))\n",
    "\n",
    "    # Individual consumption is the same for all countries, check JMM (2011)\n",
    "    c = C@np.ones((1,N))/N\n",
    "\n",
    "    #15.2.3 Approximate the conditional expectations for t=1,...T-1 using the integration method chosen\n",
    "\n",
    "    #15.2.3.1 The one-node Monte Carlo integration method approximates the \n",
    "    #values of the conditional expectations, Y, in the Euler equation with\n",
    "    # the realization of the integrand in the next period\n",
    "    if IM == 0:\n",
    "        for i in range(1, N+1):\n",
    "            Y[0:T-1,i-1][:,np.newaxis] = beta*c[1:T,i-1][:,np.newaxis]**(-gam)/c[0:T-1, i-1][:,np.newaxis]**(-gam)*(1-delta+alpha*A*k[1:T,i-1][:,np.newaxis]**(alpha-1)*a20200[1:T,i-1][:,np.newaxis])*k[1:T,i-1][:,np.newaxis]\n",
    "\n",
    "    #15.2.3.2 Deterministic integration methods approximate the values of \n",
    "    # conditional expectations, Y, in the Euler equation as a weighted average \n",
    "    # of the values of the integrand in the given nodes with the given weights \n",
    "    else:\n",
    "        Y = np.zeros((T,N))\n",
    "        for i in range(1, n_nodes+1):\n",
    "            # Compute the next-period productivity levels for each integration node using condition (C3) \n",
    "            # in JMM (2011)\n",
    "            a1 = a20200[0:T,:]**rho*np.exp(np.ones((T,1))@epsi_nodes[i-1,:][np.newaxis,])\n",
    "\n",
    "            # Compute capital of period t+2 (chosen at t+1) using the capital policy functions\n",
    "            k2 = Ord_Polynomial_N(np.hstack((k1, a1)),D)@bk_D\n",
    "\n",
    "            # C is computed by summing up individual consumption, which in turn, is from the individual budget constraints\n",
    "            C1 = (A*k1**alpha*a1-k2+(1-delta)*k1)@np.ones((N,1))\n",
    "\n",
    "            # Compute next-period individual consumption for N countries \n",
    "            c1 = C1@np.ones((1,N))/N\n",
    "            for i in range(1, N+1):\n",
    "                Y[0:T,i-1][:,np.newaxis]= Y[0:T,i-1][:,np.newaxis]+ weight_nodes[i-1, 0]*beta*c1[0:T, i-1][:,np.newaxis]**(-gam)/c[0:T,i-1][:,np.newaxis]**(-gam)*(1-delta+alpha*A*k1[0:T,i-1][:,np.newaxis]**(alpha-1)*a1[0:T,i-1][:,np.newaxis])*k1[0:T, i-1][:,np.newaxis]\n",
    "\n",
    "    # 15.2.4 Evaluate the percentage (unit-free) difference between the \n",
    "    # capital series from the previous and current iterations\n",
    "    #-------------------------------------------------------\n",
    "    dif_GSSA_D = np.mean(abs(1-k/k_old))\n",
    "\n",
    "    # 15.2.5 Compute and update the coefficients of the capital policy \n",
    "    # functions \n",
    "    # ----------------------------------------------------------------\n",
    "    # Compute new coefficients of the capital \n",
    "    # policy functions using the chosen \n",
    "    # approximation method\n",
    "    bk_hat_D = Num_Stab_Approx(X[0:T-1,:], Y[0:T-1,:], RM, penalty, normalize)\n",
    "    bk_D = kdamp*bk_hat_D+ (1-kdamp)*bk_D\n",
    "\n",
    "    #15.2.6 Store the capital series \n",
    "    #--------------------------------\n",
    "    k_old = k.copy()\n",
    "end = time.time()\n",
    "BK.append(bk_D)\n",
    "Time.append(end-start)"
   ]
  },
  {
   "cell_type": "code",
   "execution_count": 20,
   "metadata": {},
   "outputs": [
    {
     "output_type": "execute_result",
     "data": {
      "text/plain": [
       "array([[1.82954877e-09, 3.21698515e-07],\n",
       "       [1.67703531e-09, 2.87185408e-07],\n",
       "       [1.54487650e-09, 2.57197833e-07],\n",
       "       ...,\n",
       "       [6.61012200e-10, 1.12371707e-07],\n",
       "       [6.63473463e-10, 1.09413664e-07],\n",
       "       [6.50762575e-10, 1.13336288e-07]])"
      ]
     },
     "metadata": {},
     "execution_count": 20
    }
   ],
   "source": [
    "Y[0:T-1,:]"
   ]
  },
  {
   "source": [
    "Accuracy Test"
   ],
   "cell_type": "markdown",
   "metadata": {}
  },
  {
   "cell_type": "code",
   "execution_count": 214,
   "metadata": {},
   "outputs": [],
   "source": [
    "# 16. Accuracy test of the GSSA solutions: errors on a stochastic simulation\n",
    "# 16.1 Specify a set of points on which the accuracy is evaluated\n",
    "\n",
    "#predetermined values from GSSA\n",
    "a20200 = scipy.io.loadmat(\"aT20200N10.mat\").get(\"a20200\")\n",
    "N = 2\n",
    "T = 2000\n",
    "D = 1\n",
    "j = 1\n",
    "IM = 11\n",
    "gam = 1\n",
    "alpha = 0.36\n",
    "beta = 0.99\n",
    "delta = 0.025\n",
    "rho = 0.95\n",
    "sigma = 0.01\n",
    "D_max = 5\n",
    "vcv = sigma**(2)*(np.eye(N)+ np.ones(N))\n",
    "#Choose the simulation length for the test on a stochastic simulation, T_test<=10,200\n",
    "T_test = 10200\n",
    "\n",
    "#Restrict the series of the productivity levels for the test on a stochastics\n",
    "a_test = a20200[T:T+T_test,0:N]\n",
    "\n",
    "#16.2 Choose an integration method for evaluating accuracy of solutions\n",
    "IM_test = 11\n",
    "\n",
    "#16.3 Compute errors on a stochastic simulation for the GSSA polynomial solution of degrees D=1,...,D_max\n",
    "Max = []\n",
    "Mean = []\n",
    "Test_time = []\n",
    "for D in range(1, D_max+1):\n",
    "    #16.3.1 Simulate the time series solution under the given capital-\n",
    "    # policy-function coefficients, BK(:,:,D) with D=1,...,D_max \n",
    "    bk = BK[D-1]\n",
    "    #Initial condition for capital (equal to steady state)\n",
    "    k_test = np.ones((1,N))\n",
    "\n",
    "    for j in range(1, T_test):\n",
    "        X_test = Ord_Polynomial_N(np.hstack((k_test[j-1][np.newaxis,],a_test[j-1,][np.newaxis,])), D)\n",
    "        k_test = np.vstack((k_test, X_test@bk))\n",
    "    \n",
    "    #16.3.2 Errors across 10,000 points on a stochastic simulation\n",
    "    discard = 200\n",
    "    Errors_mean, Errors_max, time_test = Accuracy_Test_N(k_test, a_test, bk, D, IM_test, alpha, gam, delta, beta, A, tau, rho, vcv, discard)\n",
    "    Max.append(Errors_max)\n",
    "    Mean.append(Errors_mean)\n",
    "    Test_time.append(time_test)"
   ]
  },
  {
   "source": [
    "Accuracy_countries_n"
   ],
   "cell_type": "markdown",
   "metadata": {}
  },
  {
   "cell_type": "code",
   "execution_count": 60,
   "metadata": {},
   "outputs": [],
   "source": [
    "#change a to a\n",
    "#change k to k\n",
    "\n",
    "#Delete above when functionising\n",
    "P, N = a.shape\n",
    "\n",
    "#2. Integration method for evaluating accuracy \n",
    "if ((IM>=1) and (IM<=10)):\n",
    "    n_nodes, epsi_nodes, weight_nodes = GH_Quadrature(IM, N, vcv)\n",
    "elif IM == 11:\n",
    "    n_nodes, epsi_nodes, weight_nodes = Monomials_1(N,vcv)\n",
    "elif IM == 12:\n",
    "    n_nodes, epsi_nodes, weight_nodes = Monomials_2(N,vcv)\n",
    "\n",
    "# 3. Polynomial bases for the test\n",
    "X = Ord_Polynomial_N(np.hstack((k,a)),D)\n",
    "\n",
    "# 4. Given the solution for capital, compute consumption on the given set of points\n",
    "Error =[]\n",
    "for i in range(1, P+1):\n",
    "    # 4.1 Variables in point p\n",
    "    i = 1\n",
    "    # N capital stocks of period t\n",
    "    k0 = k[i-1,:N][np.newaxis,:]\n",
    "    # N productivity levels of period t\n",
    "    a0 = a[i-1,:N][np.newaxis,:]\n",
    "    # Complete (second-degree) polynomial\n",
    "    X0 = X[i-1, :][np.newaxis,:]\n",
    "\n",
    "    #4.2 Capital and consumption choices at t\n",
    "\n",
    "    # Compute a row-vector of capital of period t+1 (chosen at t) using\n",
    "    # the corresponding capital policy functions\n",
    "    k1 = X0@bk\n",
    "\n",
    "    C0 = (A*k0**alpha*a0 - k1 + (1-delta)*k0)@np.ones((N,1))\n",
    "\n",
    "    c0 = C0@np.ones((1,N))/N\n",
    "    #4.3 Capital and consumption choices at t+1\n",
    "\n",
    "    #Compute the next-period productivity levels in each integration node\n",
    "    a1 = (np.ones((n_nodes,1))@a0)**rho*np.exp(epsi_nodes)\n",
    "\n",
    "    #Duplicate k1 n_nodes times to create a matrix with n_nodes identical rows\n",
    "    k1_dupl = np.ones((n_nodes,1))@k1\n",
    "\n",
    "    # Form a complete polynomial of degree D (at t+1) in the given point \n",
    "    X1 = Ord_Polynomial_N(np.hstack((k1_dupl,a1)),D)\n",
    "\n",
    "    #Compute capital of period t+2 (chosen at t+1) using the second-degree capital policy functions\n",
    "    k2 = X1@bk\n",
    "\n",
    "    # Aggregate consumption is computed by summing up individual consumption, which in turn, is found from the individual budget constraints\n",
    "    C1 = (A*k1_dupl**alpha*a1-k2+ (1-delta)*k1_dupl)@np.ones((N,1))\n",
    "\n",
    "    c1 = C1@np.ones((1,N))/N\n",
    "\n",
    "    #5. Approximation errors in point p\n",
    "    # 5.1 Lagrange multiplier associated with the aggregate resource constraint\n",
    "    #Compute a country's marginal utility of consumption multiplied by its welfare weight\n",
    "    MUC0j = np.empty((1,N))\n",
    "    for j in range(1,N+1):\n",
    "        MUC0j[0,j-1] = tau*c0[0, j-1]**(-gam)\n",
    "    # An optimality condition w.r.t. consumption of period t equates \n",
    "    # the Lagrange multiplier of the aggregate resource constraint of \n",
    "    # period t and each country's marginal utility of consumption \n",
    "    # multiplied by its welfare weight; to infer the Lagrange multiplier,  \n",
    "    # we average across N countries\n",
    "    lambda0 = np.mean(MUC0j, axis=1)[np.newaxis,:]\n",
    "\n",
    "    MUC1j = np.empty((n_nodes, N))\n",
    "\n",
    "    #Compute a country's marginal utility of consumption multiplied by its welfare weight\n",
    "    for j in range(1,N+1):\n",
    "        MUC1j[:n_nodes, j-1] = tau*c1[:n_nodes,j-1]**(-gam)\n",
    "    # Similarly, the Lagrange multiplier of the aggregate resource \n",
    "    # constraint of period t+1 is equal to a country's marginal utility \n",
    "    # of consumption multiplied by its welfare weight; to infer the \n",
    "    # Lagrange multiplier, we average across N countries\n",
    "    lambda1 = np.mean(MUC1j, axis=1)[:,np.newaxis]\n",
    "\n",
    "    #5.2 Unit-free Euler-equation errors\n",
    "    Errors1 = np.zeros((1,N))\n",
    "    for j in range(1, N+1):\n",
    "        Errors1[0,j-1] = 1- weight_nodes.conj().T@(beta*lambda1/lambda0*(1-delta+alpha*A*k1[0,j-1]**(alpha-1)*a1[:n_nodes,j-1])[:,np.newaxis])\n",
    "    # 5.2 Unit-free errors in the optimality conditions w.r.t. consumption\n",
    "    Errors2 = np.zeros((1,N))\n",
    "    for j in range(1, N+1):\n",
    "        Errors2[0,j-1] = 1- lambda0/(tau*c0[0,j-1]**(-gam))\n",
    "    # 5.3 Unit-free errors in the optimality conditions w.r.t. labor \n",
    "    Errors3 = np.zeros((1, N))\n",
    "    # 5.4 Unit-free approximation error in the aggregate resource constraint\n",
    "    Errors4 = 1- (c0[0,:N][np.newaxis,:] + k1[0,0:N][np.newaxis,:]-(1-delta)*k0[0,0:N])@np.ones((N,1))/(A*k0[0,0:N][np.newaxis,:]**alpha*a0[0,0:N][np.newaxis,:]@np.ones((N,1)))\n",
    "    # 5.5 Approximation errors in the capital-accumulation equation\n",
    "    Errors5 = np.zeros((1,N))\n",
    "\n",
    "    # combine it into a row\n",
    "    # First we flatten it in order to store the values in a list\n",
    "    Error_final = np.hstack((Errors1, Errors2, Errors3, Errors4, Errors5)).flatten()\n",
    "    Error.append(Error_final)\n",
    "#Restore it to 2D\n",
    "Error = np.stack(Error, axis=0)\n",
    "\n",
    "# 6.1 Approximation errors across all the optimality conditions\n",
    "# Average absolute approximation error \n",
    "Errors_mean = math.log10(np.mean(np.abs(Error[discard:,])))\n",
    "# Maximum absolute approximation error\n",
    "Error_max = math.log10(np.max(np.abs(Error[discard:])))\n",
    "# 6.2 is not touched as it is not relevent for the results"
   ]
  },
  {
   "source": [
    "Num_Stab_Approx(X,Y,RM,penalty,normalize)"
   ],
   "cell_type": "markdown",
   "metadata": {}
  },
  {
   "cell_type": "code",
   "execution_count": 7,
   "metadata": {},
   "outputs": [],
   "source": [
    "X = X[:T-1,:]\n",
    "Y = Y[:T-1,:]\n",
    "T, n = X.shape\n",
    "N  = Y.shape[1]\n",
    "X1 = (X[:,1:n]-np.ones((T,1))@X[:,1:n].mean(axis=0)[np.newaxis,])/(np.ones((T,1))@np.std(X[:,1:n], axis=0, ddof=1)[np.newaxis,])\n",
    "Y1 = (Y - np.ones((T,1))@Y.mean(axis=0)[np.newaxis,])/(np.ones((T,1))@np.std(Y, axis=0, ddof= 1)[np.newaxis,])\n",
    "n1 = n-1\n",
    "\n"
   ]
  },
  {
   "cell_type": "code",
   "execution_count": 15,
   "metadata": {},
   "outputs": [],
   "source": [
    "U, S, Vh = linalg.svd(X1, full_matrices=False)\n",
    "V = Vh.T\n",
    "r = np.count_nonzero(np.divide(np.diag(S).max(), np.diag(S))<= 10**(penalty))"
   ]
  },
  {
   "cell_type": "code",
   "execution_count": 10,
   "metadata": {},
   "outputs": [],
   "source": [
    "r = 3"
   ]
  },
  {
   "cell_type": "code",
   "execution_count": 14,
   "metadata": {},
   "outputs": [
    {
     "output_type": "execute_result",
     "data": {
      "text/plain": [
       "array([[0.0159787 , 0.        , 0.        ],\n",
       "       [0.        , 0.01911957, 0.        ],\n",
       "       [0.        , 0.        , 0.02794562]])"
      ]
     },
     "metadata": {},
     "execution_count": 14
    }
   ],
   "source": [
    "np.diag(np.divide(1., S))"
   ]
  },
  {
   "cell_type": "code",
   "execution_count": null,
   "metadata": {},
   "outputs": [],
   "source": [
    "for i in "
   ]
  }
 ]
}