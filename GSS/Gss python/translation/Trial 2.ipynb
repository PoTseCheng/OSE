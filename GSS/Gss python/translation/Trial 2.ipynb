{
 "metadata": {
  "language_info": {
   "codemirror_mode": {
    "name": "ipython",
    "version": 3
   },
   "file_extension": ".py",
   "mimetype": "text/x-python",
   "name": "python",
   "nbconvert_exporter": "python",
   "pygments_lexer": "ipython3",
   "version": "3.7.7-final"
  },
  "orig_nbformat": 2,
  "kernelspec": {
   "name": "python3",
   "display_name": "Python 3"
  }
 },
 "nbformat": 4,
 "nbformat_minor": 2,
 "cells": [
  {
   "cell_type": "code",
   "execution_count": 25,
   "metadata": {},
   "outputs": [],
   "source": [
    "import numpy as np\n",
    "import math\n",
    "from numpy.linalg import cholesky"
   ]
  },
  {
   "cell_type": "code",
   "execution_count": 13,
   "metadata": {},
   "outputs": [],
   "source": [
    "Qn = 10 #The default option\n",
    "eps = np.array([3.436159118837738,2.532731674232790,1.756683649299882,1.036610829789514,0.3429013272237046,-0.3429013272237046,-1.036610829789514,-1.756683649299882,-2.532731674232790,-3.436159118837738])\n",
    "weight = np.array([7.640432855232621e-06,0.001343645746781233,0.03387439445548106,0.2401386110823147,0.6108626337353258,0.6108626337353258,0.2401386110823147,0.03387439445548106,0.001343645746781233,7.640432855232621e-06])\n",
    "\n",
    "N=3\n",
    "\n",
    "n_nodes = Qn**N\n",
    "z1 = np.ones([n_nodes,N]).astype(float)\n",
    "w1i = np.ones([n_nodes,N]).astype(float)\n",
    "\n",
    "for i in range(N):\n",
    "    z1[:,i]=np.tile(np.repeat(eps,10**(i)), 10**(N-i-1))\n",
    "    w1i[:,i]=np.tile(np.repeat(weight,10**(i)), 10**(N-i-1))\n",
    "w1=w1i[:,0]*w1i[:,1]*w1i[:,2]\n",
    "z= math.sqrt(2)*z1\n",
    "weight_nodes= w1/(math.sqrt(math.pi)**N)\n",
    "epsi_nodes = np.matmul(z,cholesky(vcv)) # if raise error need to come back to check here"
   ]
  },
  {
   "cell_type": "code",
   "execution_count": 19,
   "metadata": {},
   "outputs": [],
   "source": [
    "w1=w1i[:,0]*w1i[:,1]*w1i[:,2]"
   ]
  },
  {
   "cell_type": "code",
   "execution_count": 23,
   "metadata": {},
   "outputs": [
    {
     "output_type": "execute_result",
     "data": {
      "text/plain": [
       "4.460195450548139e-16"
      ]
     },
     "metadata": {},
     "execution_count": 23
    }
   ],
   "source": [
    "w1[0]"
   ]
  },
  {
   "cell_type": "code",
   "execution_count": 24,
   "metadata": {},
   "outputs": [],
   "source": [
    "sqrt_vcv = chol(vcv);            % Cholesky decomposition of the variance-\n",
    "                                 % covariance matrix\n",
    "                                 \n",
    "epsi_nodes = z*chol(vcv)"
   ]
  },
  {
   "cell_type": "code",
   "execution_count": null,
   "metadata": {},
   "outputs": [],
   "source": [
    "# await translation:\n",
    "\n",
    "\n",
    "\n",
    "w = w1/sqrt(pi)^N;   \n",
    "\n",
    "sqrt_vcv = chol(vcv);            % Cholesky decomposition of the variance-\n",
    "                                 % covariance matrix\n",
    "                                 \n",
    "epsi_nodes = z*sqrt_vcv;         % Integration nodes; see condition (B.6)  \n",
    "                                 % in the Supplement to JMM (2011); \n",
    "                                 % n_nodes-by-N                                \n",
    "\n",
    "weight_nodes = w; "
   ]
  }
 ]
}