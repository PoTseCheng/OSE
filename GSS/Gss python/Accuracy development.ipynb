{
 "metadata": {
  "language_info": {
   "codemirror_mode": {
    "name": "ipython",
    "version": 3
   },
   "file_extension": ".py",
   "mimetype": "text/x-python",
   "name": "python",
   "nbconvert_exporter": "python",
   "pygments_lexer": "ipython3",
   "version": "3.7.7-final"
  },
  "orig_nbformat": 2,
  "kernelspec": {
   "name": "python3",
   "display_name": "Python 3",
   "language": "python"
  }
 },
 "nbformat": 4,
 "nbformat_minor": 2,
 "cells": [
  {
   "source": [
    "## This notebook aims to develope the Accuracy testing"
   ],
   "cell_type": "markdown",
   "metadata": {}
  },
  {
   "cell_type": "code",
   "execution_count": 1,
   "metadata": {},
   "outputs": [],
   "source": [
    "import numpy as np \n",
    "from tools.GH_Quadrature import*\n",
    "from tools.Ord_Herm_Pol_1 import*\n",
    "from tools.Num_Stab_Approx import*"
   ]
  },
  {
   "cell_type": "code",
   "execution_count": null,
   "metadata": {},
   "outputs": [],
   "source": [
    "def Accuracy_Test_1(sigma,rho,beta,gam,alpha,delta,k,a,bk,D,IM,PF,zb,discard):\n",
    "    \t\n"
   ]
  },
  {
   "cell_type": "code",
   "execution_count": null,
   "metadata": {},
   "outputs": [],
   "source": [
    "for p in range(1, a.shape[0]+1):#need to check if we need to add 1 or not\n",
    "      "
   ]
  },
  {
   "source": [
    "Within the for loop"
   ],
   "cell_type": "markdown",
   "metadata": {}
  },
  {
   "cell_type": "code",
   "execution_count": null,
   "metadata": {},
   "outputs": [],
   "source": [
    "k0 = \n",
    "a0 =\n",
    "k1 = Ord_Herm_Pol_1()\n",
    "c0 = \n",
    "a1 = np.power(a0, rho)*np.exp(epsi_nodes)\n",
    "k1_dupl = np.asarray([k1]*n_nodes).reshape(n_nodes, 1)\n",
    "X1 = Ord_Herm_Pol_1()\n",
    "k2 = X1 bk\n"
   ]
  },
  {
   "source": [
    "Testing area:"
   ],
   "cell_type": "markdown",
   "metadata": {}
  },
  {
   "cell_type": "code",
   "execution_count": null,
   "metadata": {},
   "outputs": [],
   "source": []
  }
 ]
}