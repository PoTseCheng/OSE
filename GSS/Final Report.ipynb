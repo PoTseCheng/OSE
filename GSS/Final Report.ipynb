{
 "metadata": {
  "language_info": {
   "codemirror_mode": {
    "name": "ipython",
    "version": 3
   },
   "file_extension": ".py",
   "mimetype": "text/x-python",
   "name": "python",
   "nbconvert_exporter": "python",
   "pygments_lexer": "ipython3",
   "version": 3
  },
  "orig_nbformat": 2
 },
 "nbformat": 4,
 "nbformat_minor": 2,
 "cells": [
  {
   "cell_type": "code",
   "execution_count": null,
   "metadata": {},
   "outputs": [],
   "source": []
  },
  {
   "source": [
    "# Replication for Numerically stable and accurate stochastic simulation approaches from solving dynamic economic models\n",
    "by Po-Tse Cheng"
   ],
   "cell_type": "markdown",
   "metadata": {}
  },
  {
   "source": [
    "Need to mention difficulties during the replication\n",
    "PULP/Scipy problem with the big matrix solving issue"
   ],
   "cell_type": "markdown",
   "metadata": {}
  },
  {
   "source": [
    "Table of Content"
   ],
   "cell_type": "markdown",
   "metadata": {}
  },
  {
   "source": [
    "## Introduction"
   ],
   "cell_type": "markdown",
   "metadata": {}
  },
  {
   "source": [
    "asf"
   ],
   "cell_type": "markdown",
   "metadata": {}
  },
  {
   "source": [
    "## Theoritical part"
   ],
   "cell_type": "markdown",
   "metadata": {}
  },
  {
   "source": [
    "Need to go into details of the difficulties here."
   ],
   "cell_type": "markdown",
   "metadata": {}
  },
  {
   "source": [
    "Benchmarking results"
   ],
   "cell_type": "markdown",
   "metadata": {}
  },
  {
   "source": [
    "Conclusion"
   ],
   "cell_type": "markdown",
   "metadata": {}
  },
  {
   "source": [
    "Application : Multicountry model (if got time do this, if not then drop this part)"
   ],
   "cell_type": "markdown",
   "metadata": {}
  }
 ]
}